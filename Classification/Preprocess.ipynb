{
 "cells": [
  {
   "cell_type": "code",
   "execution_count": 1,
   "metadata": {},
   "outputs": [
    {
     "name": "stderr",
     "output_type": "stream",
     "text": [
      "[nltk_data] Downloading package stopwords to\n",
      "[nltk_data]     C:\\Users\\win24\\AppData\\Roaming\\nltk_data...\n",
      "[nltk_data]   Package stopwords is already up-to-date!\n",
      "[nltk_data] Downloading package wordnet to\n",
      "[nltk_data]     C:\\Users\\win24\\AppData\\Roaming\\nltk_data...\n",
      "[nltk_data]   Package wordnet is already up-to-date!\n"
     ]
    }
   ],
   "source": [
    "import pandas as pd\n",
    "import nltk\n",
    "nltk.download('stopwords')\n",
    "nltk.download('wordnet')\n",
    "\n",
    "from nltk.corpus import stopwords\n",
    "from nltk.stem import WordNetLemmatizer\n",
    "import re"
   ]
  },
  {
   "cell_type": "code",
   "execution_count": 2,
   "metadata": {},
   "outputs": [],
   "source": [
    "stop_words = set(stopwords.words('english'))\n",
    "wordnet_lemmatizer = WordNetLemmatizer()\n",
    "regex = re.compile('[^a-zA-Z0-9 ]')"
   ]
  },
  {
   "cell_type": "code",
   "execution_count": 3,
   "metadata": {},
   "outputs": [],
   "source": [
    "def get_words(text):\n",
    "    text_onlyletters = regex.sub(\"\", text)\n",
    "    words = text_onlyletters.lower().split()\n",
    "    meaningful_words = [wordnet_lemmatizer.lemmatize(word) for word in words if word not in stop_words]\n",
    "    return \" \".join(meaningful_words)"
   ]
  },
  {
   "cell_type": "code",
   "execution_count": 55,
   "metadata": {},
   "outputs": [],
   "source": [
    "df2 = pd.DataFrame()\n",
    "df = pd.read_csv('covid19_articles.csv',index_col=0)\n",
    "df[\"text\"] = df[\"title\"] + ' '+df[\"content\"]\n",
    "df = df.drop(columns=['date','author','domain','url','title','content'])\n",
    "df['topic_area'].value_counts()\n",
    "df = df[df.topic_area != 'medical']\n",
    "df2 = df2.append(df[df.topic_area == 'general'].sample(n=500))\n",
    "df2 = df2.append(df[df.topic_area == 'finance'].sample(n=500))\n",
    "df2 = df2.append(df[df.topic_area == 'business'].sample(n=500))\n",
    "df2 = df2.append(df[df.topic_area == 'tech'].sample(n=500))\n",
    "df2 = df2.append(df[df.topic_area == 'science'].sample(n=500))\n",
    "#df.to_csv(\"test.csv\")\n",
    "#df2.head()\n",
    "df = df2"
   ]
  },
  {
   "cell_type": "code",
   "execution_count": 58,
   "metadata": {},
   "outputs": [
    {
     "data": {
      "text/html": [
       "<div>\n",
       "<style scoped>\n",
       "    .dataframe tbody tr th:only-of-type {\n",
       "        vertical-align: middle;\n",
       "    }\n",
       "\n",
       "    .dataframe tbody tr th {\n",
       "        vertical-align: top;\n",
       "    }\n",
       "\n",
       "    .dataframe thead th {\n",
       "        text-align: right;\n",
       "    }\n",
       "</style>\n",
       "<table border=\"1\" class=\"dataframe\">\n",
       "  <thead>\n",
       "    <tr style=\"text-align: right;\">\n",
       "      <th></th>\n",
       "      <th>topic_area</th>\n",
       "      <th>text</th>\n",
       "    </tr>\n",
       "  </thead>\n",
       "  <tbody>\n",
       "    <tr>\n",
       "      <td>32347</td>\n",
       "      <td>general</td>\n",
       "      <td>Concern for A-level students over cap on unive...</td>\n",
       "    </tr>\n",
       "    <tr>\n",
       "      <td>781</td>\n",
       "      <td>general</td>\n",
       "      <td>Coronavirus: British Airways stop all flights ...</td>\n",
       "    </tr>\n",
       "    <tr>\n",
       "      <td>40797</td>\n",
       "      <td>general</td>\n",
       "      <td>Scott Stringer: NYC official who lost his moth...</td>\n",
       "    </tr>\n",
       "    <tr>\n",
       "      <td>35016</td>\n",
       "      <td>general</td>\n",
       "      <td>Best travel podcasts: Six of the best travel p...</td>\n",
       "    </tr>\n",
       "    <tr>\n",
       "      <td>15202</td>\n",
       "      <td>general</td>\n",
       "      <td>Coronavirus news: NASA forced to shut down res...</td>\n",
       "    </tr>\n",
       "  </tbody>\n",
       "</table>\n",
       "</div>"
      ],
      "text/plain": [
       "      topic_area                                               text\n",
       "32347    general  Concern for A-level students over cap on unive...\n",
       "781      general  Coronavirus: British Airways stop all flights ...\n",
       "40797    general  Scott Stringer: NYC official who lost his moth...\n",
       "35016    general  Best travel podcasts: Six of the best travel p...\n",
       "15202    general  Coronavirus news: NASA forced to shut down res..."
      ]
     },
     "execution_count": 58,
     "metadata": {},
     "output_type": "execute_result"
    }
   ],
   "source": [
    "df.head()"
   ]
  },
  {
   "cell_type": "code",
   "execution_count": 59,
   "metadata": {},
   "outputs": [],
   "source": [
    "for i, row in df.iterrows():\n",
    "    ifor_val = get_words(row['text'])\n",
    "    df.at[i,'text'] = ifor_val"
   ]
  },
  {
   "cell_type": "code",
   "execution_count": 61,
   "metadata": {},
   "outputs": [
    {
     "data": {
      "text/plain": [
       "finance     500\n",
       "science     500\n",
       "general     500\n",
       "business    500\n",
       "tech        500\n",
       "Name: topic_area, dtype: int64"
      ]
     },
     "execution_count": 61,
     "metadata": {},
     "output_type": "execute_result"
    }
   ],
   "source": [
    "#df['topic_area'].value_counts()\n",
    "#df = df[df.topic_area != 'tech']\n",
    "df['topic_area'].value_counts()"
   ]
  },
  {
   "cell_type": "code",
   "execution_count": 65,
   "metadata": {},
   "outputs": [],
   "source": [
    "df = df.reset_index(drop=True)\n",
    "df.to_csv(\"forTraining.csv\")"
   ]
  },
  {
   "cell_type": "code",
   "execution_count": null,
   "metadata": {},
   "outputs": [],
   "source": []
  }
 ],
 "metadata": {
  "kernelspec": {
   "display_name": "Python 3",
   "language": "python",
   "name": "python3"
  },
  "language_info": {
   "codemirror_mode": {
    "name": "ipython",
    "version": 3
   },
   "file_extension": ".py",
   "mimetype": "text/x-python",
   "name": "python",
   "nbconvert_exporter": "python",
   "pygments_lexer": "ipython3",
   "version": "3.7.4"
  }
 },
 "nbformat": 4,
 "nbformat_minor": 2
}
