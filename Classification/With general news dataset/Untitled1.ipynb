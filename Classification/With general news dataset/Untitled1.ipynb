{
 "cells": [
  {
   "cell_type": "code",
   "execution_count": 1,
   "metadata": {},
   "outputs": [],
   "source": [
    "import pandas as pd"
   ]
  },
  {
   "cell_type": "code",
   "execution_count": 2,
   "metadata": {
    "scrolled": true
   },
   "outputs": [
    {
     "data": {
      "text/html": [
       "<div>\n",
       "<style scoped>\n",
       "    .dataframe tbody tr th:only-of-type {\n",
       "        vertical-align: middle;\n",
       "    }\n",
       "\n",
       "    .dataframe tbody tr th {\n",
       "        vertical-align: top;\n",
       "    }\n",
       "\n",
       "    .dataframe thead th {\n",
       "        text-align: right;\n",
       "    }\n",
       "</style>\n",
       "<table border=\"1\" class=\"dataframe\">\n",
       "  <thead>\n",
       "    <tr style=\"text-align: right;\">\n",
       "      <th></th>\n",
       "      <th>category</th>\n",
       "      <th>text</th>\n",
       "    </tr>\n",
       "  </thead>\n",
       "  <tbody>\n",
       "    <tr>\n",
       "      <td>5995</td>\n",
       "      <td>ENVIRONMENT</td>\n",
       "      <td>kemosabe chatty porcupine eats banana video ke...</td>\n",
       "    </tr>\n",
       "    <tr>\n",
       "      <td>5996</td>\n",
       "      <td>ENVIRONMENT</td>\n",
       "      <td>bear camera capture life eye alaskan animal vi...</td>\n",
       "    </tr>\n",
       "    <tr>\n",
       "      <td>5997</td>\n",
       "      <td>ENVIRONMENT</td>\n",
       "      <td>first day fall autumnal equinox arrives septem...</td>\n",
       "    </tr>\n",
       "    <tr>\n",
       "      <td>5998</td>\n",
       "      <td>ENVIRONMENT</td>\n",
       "      <td>climate change could turn greenland well green...</td>\n",
       "    </tr>\n",
       "    <tr>\n",
       "      <td>5999</td>\n",
       "      <td>ENVIRONMENT</td>\n",
       "      <td>diy tshirt project idea reusing old tee networ...</td>\n",
       "    </tr>\n",
       "  </tbody>\n",
       "</table>\n",
       "</div>"
      ],
      "text/plain": [
       "         category                                               text\n",
       "5995  ENVIRONMENT  kemosabe chatty porcupine eats banana video ke...\n",
       "5996  ENVIRONMENT  bear camera capture life eye alaskan animal vi...\n",
       "5997  ENVIRONMENT  first day fall autumnal equinox arrives septem...\n",
       "5998  ENVIRONMENT  climate change could turn greenland well green...\n",
       "5999  ENVIRONMENT  diy tshirt project idea reusing old tee networ..."
      ]
     },
     "execution_count": 2,
     "metadata": {},
     "output_type": "execute_result"
    }
   ],
   "source": [
    "df = pd.read_csv('forModelTraining.csv',index_col=0)\n",
    "df.tail()"
   ]
  },
  {
   "cell_type": "code",
   "execution_count": 3,
   "metadata": {},
   "outputs": [],
   "source": [
    "y = pd.DataFrame(df['category'])\n",
    "X = pd.DataFrame(df['text'])"
   ]
  },
  {
   "cell_type": "code",
   "execution_count": 4,
   "metadata": {},
   "outputs": [],
   "source": [
    "from sklearn.model_selection import train_test_split\n",
    "X_train, X_test, y_train, y_test = train_test_split(X, y, test_size = 0.2)"
   ]
  },
  {
   "cell_type": "code",
   "execution_count": 5,
   "metadata": {},
   "outputs": [],
   "source": [
    "from sklearn.feature_extraction.text import CountVectorizer\n",
    "from sklearn.feature_extraction.text import TfidfTransformer\n",
    "from sklearn.naive_bayes import MultinomialNB\n",
    "from sklearn.pipeline import Pipeline\n",
    "text_clf = Pipeline([\n",
    "('vect', CountVectorizer()),\n",
    "('tfidf', TfidfTransformer()),\n",
    "('clf', MultinomialNB()),\n",
    "])"
   ]
  },
  {
   "cell_type": "code",
   "execution_count": 6,
   "metadata": {},
   "outputs": [
    {
     "data": {
      "text/plain": [
       "0.6966666666666667"
      ]
     },
     "execution_count": 6,
     "metadata": {},
     "output_type": "execute_result"
    }
   ],
   "source": [
    "import numpy as np\n",
    "text_clf.fit(X_train['text'].values.astype(str), y_train['category'].values.astype(str))\n",
    "predicted = text_clf.predict(X_test['text'].values.astype(str))\n",
    "np.mean(predicted == y_test['category'].values.astype(str))"
   ]
  },
  {
   "cell_type": "code",
   "execution_count": 7,
   "metadata": {},
   "outputs": [
    {
     "name": "stdout",
     "output_type": "stream",
     "text": [
      "              precision    recall  f1-score   support\n",
      "\n",
      "    BUSINESS       0.78      0.59      0.67       216\n",
      " ENVIRONMENT       0.70      0.85      0.77       197\n",
      "     GENERAL       0.57      0.74      0.64       197\n",
      "    POLITICS       0.69      0.76      0.72       176\n",
      "     SCIENCE       0.84      0.48      0.61       224\n",
      "        TECH       0.70      0.82      0.75       190\n",
      "\n",
      "    accuracy                           0.70      1200\n",
      "   macro avg       0.71      0.71      0.69      1200\n",
      "weighted avg       0.72      0.70      0.69      1200\n",
      "\n"
     ]
    }
   ],
   "source": [
    "from sklearn import metrics\n",
    "print(metrics.classification_report(y_test, predicted))"
   ]
  },
  {
   "cell_type": "code",
   "execution_count": 8,
   "metadata": {},
   "outputs": [
    {
     "data": {
      "text/plain": [
       "0.695"
      ]
     },
     "execution_count": 8,
     "metadata": {},
     "output_type": "execute_result"
    }
   ],
   "source": [
    "from sklearn.linear_model import SGDClassifier\n",
    "text_clf_svm = Pipeline([\n",
    "('vect', CountVectorizer()),\n",
    "('tfidf', TfidfTransformer()),\n",
    "('clf-svm', SGDClassifier(loss='hinge', penalty='l2',\n",
    "alpha=1e-3, random_state=42,\n",
    "max_iter=5, tol=None)),\n",
    "])\n",
    "\n",
    "text_clf_svm.fit(X_train['text'].values.astype(str), y_train['category'].values.astype(str))\n",
    "predicted = text_clf_svm.predict(X_test['text'].values.astype(str))\n",
    "np.mean(predicted == y_test['category'].values.astype(str))"
   ]
  },
  {
   "cell_type": "code",
   "execution_count": 9,
   "metadata": {},
   "outputs": [
    {
     "name": "stdout",
     "output_type": "stream",
     "text": [
      "              precision    recall  f1-score   support\n",
      "\n",
      "    BUSINESS       0.80      0.57      0.67       216\n",
      " ENVIRONMENT       0.72      0.81      0.77       197\n",
      "     GENERAL       0.78      0.62      0.69       197\n",
      "    POLITICS       0.49      0.81      0.61       176\n",
      "     SCIENCE       0.79      0.58      0.67       224\n",
      "        TECH       0.73      0.82      0.77       190\n",
      "\n",
      "    accuracy                           0.69      1200\n",
      "   macro avg       0.72      0.70      0.70      1200\n",
      "weighted avg       0.73      0.69      0.70      1200\n",
      "\n"
     ]
    }
   ],
   "source": [
    "from sklearn import metrics\n",
    "print(metrics.classification_report(y_test, predicted))"
   ]
  },
  {
   "cell_type": "code",
   "execution_count": 10,
   "metadata": {},
   "outputs": [],
   "source": [
    "from sklearn.neural_network import MLPClassifier\n",
    "\n",
    "text_clf_nn = Pipeline([\n",
    "('vect', CountVectorizer()),\n",
    "('tfidf', TfidfTransformer()),\n",
    "('clf-nn', MLPClassifier(solver='lbfgs', random_state=0)),\n",
    "])\n"
   ]
  },
  {
   "cell_type": "code",
   "execution_count": 11,
   "metadata": {},
   "outputs": [
    {
     "data": {
      "text/plain": [
       "0.6816666666666666"
      ]
     },
     "execution_count": 11,
     "metadata": {},
     "output_type": "execute_result"
    }
   ],
   "source": [
    "text_clf_nn.fit(X_train['text'].values.astype(str), y_train['category'].values.astype(str))\n",
    "predicted = text_clf_nn.predict(X_test['text'].values.astype(str))\n",
    "np.mean(predicted == y_test['category'].values.astype(str))"
   ]
  },
  {
   "cell_type": "code",
   "execution_count": 12,
   "metadata": {},
   "outputs": [
    {
     "name": "stdout",
     "output_type": "stream",
     "text": [
      "              precision    recall  f1-score   support\n",
      "\n",
      "    BUSINESS       0.69      0.63      0.66       216\n",
      " ENVIRONMENT       0.71      0.76      0.73       197\n",
      "     GENERAL       0.54      0.73      0.62       197\n",
      "    POLITICS       0.74      0.70      0.72       176\n",
      "     SCIENCE       0.72      0.60      0.65       224\n",
      "        TECH       0.75      0.69      0.72       190\n",
      "\n",
      "    accuracy                           0.68      1200\n",
      "   macro avg       0.69      0.68      0.68      1200\n",
      "weighted avg       0.69      0.68      0.68      1200\n",
      "\n"
     ]
    }
   ],
   "source": [
    "from sklearn import metrics\n",
    "print(metrics.classification_report(y_test, predicted))"
   ]
  },
  {
   "cell_type": "code",
   "execution_count": 13,
   "metadata": {},
   "outputs": [],
   "source": [
    "from sklearn.model_selection import GridSearchCV\n",
    "parameters = {\n",
    "'vect__ngram_range': [(1, 1), (1, 2)],\n",
    "'tfidf__use_idf': (True, False),\n",
    "'clf__alpha': (1e-2, 1e-3),\n",
    "}"
   ]
  },
  {
   "cell_type": "code",
   "execution_count": 14,
   "metadata": {},
   "outputs": [
    {
     "name": "stderr",
     "output_type": "stream",
     "text": [
      "C:\\Users\\win24\\Anaconda3\\lib\\site-packages\\sklearn\\model_selection\\_split.py:1978: FutureWarning: The default value of cv will change from 3 to 5 in version 0.22. Specify it explicitly to silence this warning.\n",
      "  warnings.warn(CV_WARNING, FutureWarning)\n"
     ]
    }
   ],
   "source": [
    "gs_clf = GridSearchCV(text_clf, parameters, n_jobs=-1)\n",
    "gs_clf = gs_clf.fit(X_train['text'].values.astype(str), y_train['category'].values.astype(str))"
   ]
  },
  {
   "cell_type": "code",
   "execution_count": 15,
   "metadata": {},
   "outputs": [
    {
     "name": "stdout",
     "output_type": "stream",
     "text": [
      "0.671875\n",
      "{'clf__alpha': 0.01, 'tfidf__use_idf': False, 'vect__ngram_range': (1, 2)}\n"
     ]
    }
   ],
   "source": [
    "print(gs_clf.best_score_)\n",
    "print(gs_clf.best_params_)"
   ]
  },
  {
   "cell_type": "code",
   "execution_count": 16,
   "metadata": {},
   "outputs": [
    {
     "name": "stderr",
     "output_type": "stream",
     "text": [
      "C:\\Users\\win24\\Anaconda3\\lib\\site-packages\\sklearn\\model_selection\\_split.py:1978: FutureWarning: The default value of cv will change from 3 to 5 in version 0.22. Specify it explicitly to silence this warning.\n",
      "  warnings.warn(CV_WARNING, FutureWarning)\n"
     ]
    },
    {
     "name": "stdout",
     "output_type": "stream",
     "text": [
      "0.6847916666666667\n",
      "{'clf-svm__alpha': 0.001, 'tfidf__use_idf': True, 'vect__ngram_range': (1, 2)}\n"
     ]
    }
   ],
   "source": [
    "from sklearn.model_selection import GridSearchCV\n",
    "parameters_svm = {'vect__ngram_range': [(1, 1), (1, 2)],\n",
    "'tfidf__use_idf': (True, False),\n",
    "'clf-svm__alpha': (1e-2, 1e-3),\n",
    "}\n",
    "gs_clf_svm = GridSearchCV(text_clf_svm, parameters_svm, n_jobs=-1)\n",
    "gs_clf_svm = gs_clf_svm.fit(X_train['text'].values.astype(str), y_train['category'].values.astype(str))\n",
    "print(gs_clf_svm.best_score_)\n",
    "print(gs_clf_svm.best_params_)"
   ]
  },
  {
   "cell_type": "code",
   "execution_count": null,
   "metadata": {},
   "outputs": [],
   "source": []
  },
  {
   "cell_type": "code",
   "execution_count": 17,
   "metadata": {},
   "outputs": [
    {
     "data": {
      "text/html": [
       "<div>\n",
       "<style scoped>\n",
       "    .dataframe tbody tr th:only-of-type {\n",
       "        vertical-align: middle;\n",
       "    }\n",
       "\n",
       "    .dataframe tbody tr th {\n",
       "        vertical-align: top;\n",
       "    }\n",
       "\n",
       "    .dataframe thead th {\n",
       "        text-align: right;\n",
       "    }\n",
       "</style>\n",
       "<table border=\"1\" class=\"dataframe\">\n",
       "  <thead>\n",
       "    <tr style=\"text-align: right;\">\n",
       "      <th></th>\n",
       "      <th>category</th>\n",
       "      <th>predicted_category</th>\n",
       "      <th>text</th>\n",
       "    </tr>\n",
       "  </thead>\n",
       "  <tbody>\n",
       "    <tr>\n",
       "      <td>995</td>\n",
       "      <td>GENERAL</td>\n",
       "      <td>name</td>\n",
       "      <td>japan expanding state emergency entire nation ...</td>\n",
       "    </tr>\n",
       "    <tr>\n",
       "      <td>996</td>\n",
       "      <td>GENERAL</td>\n",
       "      <td>name</td>\n",
       "      <td>south african president extends lockdown two w...</td>\n",
       "    </tr>\n",
       "    <tr>\n",
       "      <td>997</td>\n",
       "      <td>GENERAL</td>\n",
       "      <td>name</td>\n",
       "      <td>uk report largest oneday death toll coronaviru...</td>\n",
       "    </tr>\n",
       "    <tr>\n",
       "      <td>998</td>\n",
       "      <td>POLITICS</td>\n",
       "      <td>name</td>\n",
       "      <td>hill campaign report biden seek counter trump ...</td>\n",
       "    </tr>\n",
       "    <tr>\n",
       "      <td>999</td>\n",
       "      <td>GENERAL</td>\n",
       "      <td>name</td>\n",
       "      <td>nigeria issue warning drug touted trump overdo...</td>\n",
       "    </tr>\n",
       "  </tbody>\n",
       "</table>\n",
       "</div>"
      ],
      "text/plain": [
       "     category predicted_category  \\\n",
       "995   GENERAL               name   \n",
       "996   GENERAL               name   \n",
       "997   GENERAL               name   \n",
       "998  POLITICS               name   \n",
       "999   GENERAL               name   \n",
       "\n",
       "                                                  text  \n",
       "995  japan expanding state emergency entire nation ...  \n",
       "996  south african president extends lockdown two w...  \n",
       "997  uk report largest oneday death toll coronaviru...  \n",
       "998  hill campaign report biden seek counter trump ...  \n",
       "999  nigeria issue warning drug touted trump overdo...  "
      ]
     },
     "execution_count": 17,
     "metadata": {},
     "output_type": "execute_result"
    }
   ],
   "source": [
    "df2 = pd.read_csv('forEvaluating.csv',index_col=0)\n",
    "df2.tail()"
   ]
  },
  {
   "cell_type": "code",
   "execution_count": 18,
   "metadata": {},
   "outputs": [],
   "source": [
    "y = pd.DataFrame(df2['category'])\n",
    "X = pd.DataFrame(df2['text'])"
   ]
  },
  {
   "cell_type": "code",
   "execution_count": 19,
   "metadata": {},
   "outputs": [
    {
     "data": {
      "text/plain": [
       "0.373"
      ]
     },
     "execution_count": 19,
     "metadata": {},
     "output_type": "execute_result"
    }
   ],
   "source": [
    "text_clf_svm.fit(X_train['text'].values.astype(str), y_train['category'].values.astype(str))\n",
    "predicted = text_clf_svm.predict((X['text'].values.astype(str)))\n",
    "np.mean(predicted == y['category'].values.astype(str))"
   ]
  },
  {
   "cell_type": "code",
   "execution_count": 20,
   "metadata": {},
   "outputs": [
    {
     "data": {
      "text/html": [
       "<div>\n",
       "<style scoped>\n",
       "    .dataframe tbody tr th:only-of-type {\n",
       "        vertical-align: middle;\n",
       "    }\n",
       "\n",
       "    .dataframe tbody tr th {\n",
       "        vertical-align: top;\n",
       "    }\n",
       "\n",
       "    .dataframe thead th {\n",
       "        text-align: right;\n",
       "    }\n",
       "</style>\n",
       "<table border=\"1\" class=\"dataframe\">\n",
       "  <thead>\n",
       "    <tr style=\"text-align: right;\">\n",
       "      <th></th>\n",
       "      <th>source</th>\n",
       "      <th>author</th>\n",
       "      <th>title</th>\n",
       "      <th>description</th>\n",
       "      <th>url</th>\n",
       "      <th>urlToImage</th>\n",
       "      <th>publishedAt</th>\n",
       "      <th>content</th>\n",
       "      <th>category</th>\n",
       "      <th>predicted_category</th>\n",
       "    </tr>\n",
       "  </thead>\n",
       "  <tbody>\n",
       "    <tr>\n",
       "      <td>995</td>\n",
       "      <td>The Hill</td>\n",
       "      <td>John Bowden</td>\n",
       "      <td>Japan expanding state of emergency to entire n...</td>\n",
       "      <td>Japanese Prime Minister Shinzo Abe officially ...</td>\n",
       "      <td>https://thehill.com/policy/international/49309...</td>\n",
       "      <td>https://thehill.com/sites/default/files/blogs/...</td>\n",
       "      <td>2020-04-16T13:02:27Z</td>\n",
       "      <td>Japanese Prime Minister Shinzo Abe officially ...</td>\n",
       "      <td>GENERAL</td>\n",
       "      <td>name</td>\n",
       "    </tr>\n",
       "    <tr>\n",
       "      <td>996</td>\n",
       "      <td>The Hill</td>\n",
       "      <td>Marty Johnson</td>\n",
       "      <td>South African president extends lockdown two w...</td>\n",
       "      <td>South African President Cyril Ramaphosa on Fri...</td>\n",
       "      <td>https://thehill.com/policy/international/afric...</td>\n",
       "      <td>https://thehill.com/sites/default/files/ramaph...</td>\n",
       "      <td>2020-04-10T14:29:54Z</td>\n",
       "      <td>South African President Cyril Ramaphosa on Fri...</td>\n",
       "      <td>GENERAL</td>\n",
       "      <td>name</td>\n",
       "    </tr>\n",
       "    <tr>\n",
       "      <td>997</td>\n",
       "      <td>The Hill</td>\n",
       "      <td>Zack Budryk</td>\n",
       "      <td>UK reports largest one-day death toll from cor...</td>\n",
       "      <td>The U.K. saw its largest single-day death toll...</td>\n",
       "      <td>https://thehill.com/blogs/blog-briefing-room/n...</td>\n",
       "      <td>https://thehill.com/sites/default/files/uk_cor...</td>\n",
       "      <td>2020-04-01T14:25:54Z</td>\n",
       "      <td>The U.K. saw its largest single-day death toll...</td>\n",
       "      <td>GENERAL</td>\n",
       "      <td>name</td>\n",
       "    </tr>\n",
       "    <tr>\n",
       "      <td>998</td>\n",
       "      <td>The Hill</td>\n",
       "      <td>Julia Manchester,Max Greenwood and Jonathan Ea...</td>\n",
       "      <td>The Hill's Campaign Report: Biden seeks to cou...</td>\n",
       "      <td>Welcome to The Hill's Campaign Report, your da...</td>\n",
       "      <td>https://thehill.com/homenews/campaign/489104-t...</td>\n",
       "      <td>https://thehill.com/sites/default/files/bidenj...</td>\n",
       "      <td>2020-03-23T21:27:11Z</td>\n",
       "      <td>Welcome to The Hill's Campaign Report, your da...</td>\n",
       "      <td>POLITICS</td>\n",
       "      <td>name</td>\n",
       "    </tr>\n",
       "    <tr>\n",
       "      <td>999</td>\n",
       "      <td>The Hill</td>\n",
       "      <td>Zack Budryk</td>\n",
       "      <td>Nigeria issues warning for drug touted by Trum...</td>\n",
       "      <td>Nigerian health officials on Monday issued a w...</td>\n",
       "      <td>https://thehill.com/policy/healthcare/488972-n...</td>\n",
       "      <td>https://thehill.com/sites/default/files/nigeri...</td>\n",
       "      <td>2020-03-23T13:07:05Z</td>\n",
       "      <td>Nigerian health officials on Monday issued a w...</td>\n",
       "      <td>GENERAL</td>\n",
       "      <td>name</td>\n",
       "    </tr>\n",
       "  </tbody>\n",
       "</table>\n",
       "</div>"
      ],
      "text/plain": [
       "       source                                             author  \\\n",
       "995  The Hill                                        John Bowden   \n",
       "996  The Hill                                      Marty Johnson   \n",
       "997  The Hill                                        Zack Budryk   \n",
       "998  The Hill  Julia Manchester,Max Greenwood and Jonathan Ea...   \n",
       "999  The Hill                                        Zack Budryk   \n",
       "\n",
       "                                                 title  \\\n",
       "995  Japan expanding state of emergency to entire n...   \n",
       "996  South African president extends lockdown two w...   \n",
       "997  UK reports largest one-day death toll from cor...   \n",
       "998  The Hill's Campaign Report: Biden seeks to cou...   \n",
       "999  Nigeria issues warning for drug touted by Trum...   \n",
       "\n",
       "                                           description  \\\n",
       "995  Japanese Prime Minister Shinzo Abe officially ...   \n",
       "996  South African President Cyril Ramaphosa on Fri...   \n",
       "997  The U.K. saw its largest single-day death toll...   \n",
       "998  Welcome to The Hill's Campaign Report, your da...   \n",
       "999  Nigerian health officials on Monday issued a w...   \n",
       "\n",
       "                                                   url  \\\n",
       "995  https://thehill.com/policy/international/49309...   \n",
       "996  https://thehill.com/policy/international/afric...   \n",
       "997  https://thehill.com/blogs/blog-briefing-room/n...   \n",
       "998  https://thehill.com/homenews/campaign/489104-t...   \n",
       "999  https://thehill.com/policy/healthcare/488972-n...   \n",
       "\n",
       "                                            urlToImage           publishedAt  \\\n",
       "995  https://thehill.com/sites/default/files/blogs/...  2020-04-16T13:02:27Z   \n",
       "996  https://thehill.com/sites/default/files/ramaph...  2020-04-10T14:29:54Z   \n",
       "997  https://thehill.com/sites/default/files/uk_cor...  2020-04-01T14:25:54Z   \n",
       "998  https://thehill.com/sites/default/files/bidenj...  2020-03-23T21:27:11Z   \n",
       "999  https://thehill.com/sites/default/files/nigeri...  2020-03-23T13:07:05Z   \n",
       "\n",
       "                                               content  category  \\\n",
       "995  Japanese Prime Minister Shinzo Abe officially ...   GENERAL   \n",
       "996  South African President Cyril Ramaphosa on Fri...   GENERAL   \n",
       "997  The U.K. saw its largest single-day death toll...   GENERAL   \n",
       "998  Welcome to The Hill's Campaign Report, your da...  POLITICS   \n",
       "999  Nigerian health officials on Monday issued a w...   GENERAL   \n",
       "\n",
       "    predicted_category  \n",
       "995               name  \n",
       "996               name  \n",
       "997               name  \n",
       "998               name  \n",
       "999               name  "
      ]
     },
     "execution_count": 20,
     "metadata": {},
     "output_type": "execute_result"
    }
   ],
   "source": [
    "df3 = pd.read_csv('labeled.csv',index_col=0)\n",
    "df3.tail()"
   ]
  },
  {
   "cell_type": "code",
   "execution_count": 21,
   "metadata": {},
   "outputs": [],
   "source": [
    "for i, row in df3.iterrows():\n",
    "    df3.at[i,'predicted_category'] = predicted[i]"
   ]
  },
  {
   "cell_type": "code",
   "execution_count": 22,
   "metadata": {},
   "outputs": [
    {
     "data": {
      "text/html": [
       "<div>\n",
       "<style scoped>\n",
       "    .dataframe tbody tr th:only-of-type {\n",
       "        vertical-align: middle;\n",
       "    }\n",
       "\n",
       "    .dataframe tbody tr th {\n",
       "        vertical-align: top;\n",
       "    }\n",
       "\n",
       "    .dataframe thead th {\n",
       "        text-align: right;\n",
       "    }\n",
       "</style>\n",
       "<table border=\"1\" class=\"dataframe\">\n",
       "  <thead>\n",
       "    <tr style=\"text-align: right;\">\n",
       "      <th></th>\n",
       "      <th>source</th>\n",
       "      <th>author</th>\n",
       "      <th>title</th>\n",
       "      <th>description</th>\n",
       "      <th>url</th>\n",
       "      <th>urlToImage</th>\n",
       "      <th>publishedAt</th>\n",
       "      <th>content</th>\n",
       "      <th>category</th>\n",
       "      <th>predicted_category</th>\n",
       "    </tr>\n",
       "  </thead>\n",
       "  <tbody>\n",
       "    <tr>\n",
       "      <td>995</td>\n",
       "      <td>The Hill</td>\n",
       "      <td>John Bowden</td>\n",
       "      <td>Japan expanding state of emergency to entire n...</td>\n",
       "      <td>Japanese Prime Minister Shinzo Abe officially ...</td>\n",
       "      <td>https://thehill.com/policy/international/49309...</td>\n",
       "      <td>https://thehill.com/sites/default/files/blogs/...</td>\n",
       "      <td>2020-04-16T13:02:27Z</td>\n",
       "      <td>Japanese Prime Minister Shinzo Abe officially ...</td>\n",
       "      <td>GENERAL</td>\n",
       "      <td>GENERAL</td>\n",
       "    </tr>\n",
       "    <tr>\n",
       "      <td>996</td>\n",
       "      <td>The Hill</td>\n",
       "      <td>Marty Johnson</td>\n",
       "      <td>South African president extends lockdown two w...</td>\n",
       "      <td>South African President Cyril Ramaphosa on Fri...</td>\n",
       "      <td>https://thehill.com/policy/international/afric...</td>\n",
       "      <td>https://thehill.com/sites/default/files/ramaph...</td>\n",
       "      <td>2020-04-10T14:29:54Z</td>\n",
       "      <td>South African President Cyril Ramaphosa on Fri...</td>\n",
       "      <td>GENERAL</td>\n",
       "      <td>GENERAL</td>\n",
       "    </tr>\n",
       "    <tr>\n",
       "      <td>997</td>\n",
       "      <td>The Hill</td>\n",
       "      <td>Zack Budryk</td>\n",
       "      <td>UK reports largest one-day death toll from cor...</td>\n",
       "      <td>The U.K. saw its largest single-day death toll...</td>\n",
       "      <td>https://thehill.com/blogs/blog-briefing-room/n...</td>\n",
       "      <td>https://thehill.com/sites/default/files/uk_cor...</td>\n",
       "      <td>2020-04-01T14:25:54Z</td>\n",
       "      <td>The U.K. saw its largest single-day death toll...</td>\n",
       "      <td>GENERAL</td>\n",
       "      <td>ENVIRONMENT</td>\n",
       "    </tr>\n",
       "    <tr>\n",
       "      <td>998</td>\n",
       "      <td>The Hill</td>\n",
       "      <td>Julia Manchester,Max Greenwood and Jonathan Ea...</td>\n",
       "      <td>The Hill's Campaign Report: Biden seeks to cou...</td>\n",
       "      <td>Welcome to The Hill's Campaign Report, your da...</td>\n",
       "      <td>https://thehill.com/homenews/campaign/489104-t...</td>\n",
       "      <td>https://thehill.com/sites/default/files/bidenj...</td>\n",
       "      <td>2020-03-23T21:27:11Z</td>\n",
       "      <td>Welcome to The Hill's Campaign Report, your da...</td>\n",
       "      <td>POLITICS</td>\n",
       "      <td>POLITICS</td>\n",
       "    </tr>\n",
       "    <tr>\n",
       "      <td>999</td>\n",
       "      <td>The Hill</td>\n",
       "      <td>Zack Budryk</td>\n",
       "      <td>Nigeria issues warning for drug touted by Trum...</td>\n",
       "      <td>Nigerian health officials on Monday issued a w...</td>\n",
       "      <td>https://thehill.com/policy/healthcare/488972-n...</td>\n",
       "      <td>https://thehill.com/sites/default/files/nigeri...</td>\n",
       "      <td>2020-03-23T13:07:05Z</td>\n",
       "      <td>Nigerian health officials on Monday issued a w...</td>\n",
       "      <td>GENERAL</td>\n",
       "      <td>POLITICS</td>\n",
       "    </tr>\n",
       "  </tbody>\n",
       "</table>\n",
       "</div>"
      ],
      "text/plain": [
       "       source                                             author  \\\n",
       "995  The Hill                                        John Bowden   \n",
       "996  The Hill                                      Marty Johnson   \n",
       "997  The Hill                                        Zack Budryk   \n",
       "998  The Hill  Julia Manchester,Max Greenwood and Jonathan Ea...   \n",
       "999  The Hill                                        Zack Budryk   \n",
       "\n",
       "                                                 title  \\\n",
       "995  Japan expanding state of emergency to entire n...   \n",
       "996  South African president extends lockdown two w...   \n",
       "997  UK reports largest one-day death toll from cor...   \n",
       "998  The Hill's Campaign Report: Biden seeks to cou...   \n",
       "999  Nigeria issues warning for drug touted by Trum...   \n",
       "\n",
       "                                           description  \\\n",
       "995  Japanese Prime Minister Shinzo Abe officially ...   \n",
       "996  South African President Cyril Ramaphosa on Fri...   \n",
       "997  The U.K. saw its largest single-day death toll...   \n",
       "998  Welcome to The Hill's Campaign Report, your da...   \n",
       "999  Nigerian health officials on Monday issued a w...   \n",
       "\n",
       "                                                   url  \\\n",
       "995  https://thehill.com/policy/international/49309...   \n",
       "996  https://thehill.com/policy/international/afric...   \n",
       "997  https://thehill.com/blogs/blog-briefing-room/n...   \n",
       "998  https://thehill.com/homenews/campaign/489104-t...   \n",
       "999  https://thehill.com/policy/healthcare/488972-n...   \n",
       "\n",
       "                                            urlToImage           publishedAt  \\\n",
       "995  https://thehill.com/sites/default/files/blogs/...  2020-04-16T13:02:27Z   \n",
       "996  https://thehill.com/sites/default/files/ramaph...  2020-04-10T14:29:54Z   \n",
       "997  https://thehill.com/sites/default/files/uk_cor...  2020-04-01T14:25:54Z   \n",
       "998  https://thehill.com/sites/default/files/bidenj...  2020-03-23T21:27:11Z   \n",
       "999  https://thehill.com/sites/default/files/nigeri...  2020-03-23T13:07:05Z   \n",
       "\n",
       "                                               content  category  \\\n",
       "995  Japanese Prime Minister Shinzo Abe officially ...   GENERAL   \n",
       "996  South African President Cyril Ramaphosa on Fri...   GENERAL   \n",
       "997  The U.K. saw its largest single-day death toll...   GENERAL   \n",
       "998  Welcome to The Hill's Campaign Report, your da...  POLITICS   \n",
       "999  Nigerian health officials on Monday issued a w...   GENERAL   \n",
       "\n",
       "    predicted_category  \n",
       "995            GENERAL  \n",
       "996            GENERAL  \n",
       "997        ENVIRONMENT  \n",
       "998           POLITICS  \n",
       "999           POLITICS  "
      ]
     },
     "execution_count": 22,
     "metadata": {},
     "output_type": "execute_result"
    }
   ],
   "source": [
    "df3.tail()"
   ]
  },
  {
   "cell_type": "code",
   "execution_count": null,
   "metadata": {},
   "outputs": [],
   "source": []
  },
  {
   "cell_type": "code",
   "execution_count": null,
   "metadata": {},
   "outputs": [],
   "source": [
    "for i, row in df2.iterrows():\n",
    "    df2.at[i,'category'] = predicted[i]"
   ]
  },
  {
   "cell_type": "code",
   "execution_count": null,
   "metadata": {},
   "outputs": [],
   "source": [
    "df2.tail()"
   ]
  },
  {
   "cell_type": "code",
   "execution_count": null,
   "metadata": {},
   "outputs": [],
   "source": [
    "df3 = pd.read_csv('Combined.csv')\n",
    "df3['category'] = df3['Unnamed: 0']\n",
    "df3 = df3.drop(columns=['Unnamed: 0'])\n",
    "df3.head()"
   ]
  },
  {
   "cell_type": "code",
   "execution_count": null,
   "metadata": {},
   "outputs": [],
   "source": [
    "for i, row in df2.iterrows():\n",
    "    df3.at[i,'category'] = predicted[i]"
   ]
  },
  {
   "cell_type": "code",
   "execution_count": null,
   "metadata": {},
   "outputs": [],
   "source": [
    "df3.tail()"
   ]
  },
  {
   "cell_type": "code",
   "execution_count": null,
   "metadata": {},
   "outputs": [],
   "source": [
    "df3.to_csv(\"Combined With Category.csv\")"
   ]
  },
  {
   "cell_type": "code",
   "execution_count": null,
   "metadata": {},
   "outputs": [],
   "source": [
    "df4 = pd.read_csv('forEvaluating.csv',index_col=0)\n",
    "df4.tail()"
   ]
  },
  {
   "cell_type": "code",
   "execution_count": null,
   "metadata": {},
   "outputs": [],
   "source": [
    "y = pd.DataFrame(df4['category'])\n",
    "X = pd.DataFrame(df4['text'])"
   ]
  },
  {
   "cell_type": "code",
   "execution_count": null,
   "metadata": {},
   "outputs": [],
   "source": [
    "text_clf_nn.fit(X_train['text'], y_train['topic_area'])\n",
    "predicted = text_clf_nn.predict((X['text'].values.astype(str)))\n",
    "np.mean(predicted == y['category'])"
   ]
  },
  {
   "cell_type": "code",
   "execution_count": null,
   "metadata": {},
   "outputs": [],
   "source": [
    "for i, row in df4.iterrows():\n",
    "    df4.at[i,'predicted_category'] = predicted[i]"
   ]
  },
  {
   "cell_type": "code",
   "execution_count": null,
   "metadata": {},
   "outputs": [],
   "source": [
    "df4.tail()"
   ]
  },
  {
   "cell_type": "code",
   "execution_count": null,
   "metadata": {},
   "outputs": [],
   "source": [
    "df4.to_csv(\"labelled_and_predicted.csv\")"
   ]
  },
  {
   "cell_type": "code",
   "execution_count": null,
   "metadata": {},
   "outputs": [],
   "source": [
    "df5 = pd.read_csv('Evaluation Dataset.csv')\n",
    "df5['predicted_category'] = df5['category']\n",
    "df5 = df5.drop(columns=['Unnamed: 0'])\n",
    "df5.tail()"
   ]
  },
  {
   "cell_type": "code",
   "execution_count": null,
   "metadata": {},
   "outputs": [],
   "source": [
    "for i, row in df5.iterrows():\n",
    "    df5.at[i,'predicted_category'] = predicted[i]"
   ]
  },
  {
   "cell_type": "code",
   "execution_count": null,
   "metadata": {},
   "outputs": [],
   "source": [
    "np.mean(df5['category'] == df5['predicted_category'])"
   ]
  },
  {
   "cell_type": "code",
   "execution_count": null,
   "metadata": {},
   "outputs": [],
   "source": [
    "df5.tail()"
   ]
  },
  {
   "cell_type": "code",
   "execution_count": null,
   "metadata": {},
   "outputs": [],
   "source": [
    "df5.to_csv(\"labelled_and_predicted.csv\")"
   ]
  },
  {
   "cell_type": "code",
   "execution_count": null,
   "metadata": {},
   "outputs": [],
   "source": []
  }
 ],
 "metadata": {
  "kernelspec": {
   "display_name": "Python 3",
   "language": "python",
   "name": "python3"
  },
  "language_info": {
   "codemirror_mode": {
    "name": "ipython",
    "version": 3
   },
   "file_extension": ".py",
   "mimetype": "text/x-python",
   "name": "python",
   "nbconvert_exporter": "python",
   "pygments_lexer": "ipython3",
   "version": "3.7.4"
  }
 },
 "nbformat": 4,
 "nbformat_minor": 2
}
