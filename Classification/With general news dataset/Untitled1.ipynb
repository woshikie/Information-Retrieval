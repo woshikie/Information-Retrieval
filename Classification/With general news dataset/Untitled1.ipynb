{
 "cells": [
  {
   "cell_type": "code",
   "execution_count": 86,
   "metadata": {},
   "outputs": [],
   "source": [
    "import pandas as pd\n",
    "from datetime import datetime"
   ]
  },
  {
   "cell_type": "code",
   "execution_count": 32,
   "metadata": {
    "scrolled": true
   },
   "outputs": [
    {
     "data": {
      "text/html": [
       "<div>\n",
       "<style scoped>\n",
       "    .dataframe tbody tr th:only-of-type {\n",
       "        vertical-align: middle;\n",
       "    }\n",
       "\n",
       "    .dataframe tbody tr th {\n",
       "        vertical-align: top;\n",
       "    }\n",
       "\n",
       "    .dataframe thead th {\n",
       "        text-align: right;\n",
       "    }\n",
       "</style>\n",
       "<table border=\"1\" class=\"dataframe\">\n",
       "  <thead>\n",
       "    <tr style=\"text-align: right;\">\n",
       "      <th></th>\n",
       "      <th>category</th>\n",
       "      <th>text</th>\n",
       "    </tr>\n",
       "  </thead>\n",
       "  <tbody>\n",
       "    <tr>\n",
       "      <td>5995</td>\n",
       "      <td>ENVIRONMENT</td>\n",
       "      <td>kemosabe chatty porcupine eats banana video ke...</td>\n",
       "    </tr>\n",
       "    <tr>\n",
       "      <td>5996</td>\n",
       "      <td>ENVIRONMENT</td>\n",
       "      <td>bear camera capture life eye alaskan animal vi...</td>\n",
       "    </tr>\n",
       "    <tr>\n",
       "      <td>5997</td>\n",
       "      <td>ENVIRONMENT</td>\n",
       "      <td>first day fall autumnal equinox arrives septem...</td>\n",
       "    </tr>\n",
       "    <tr>\n",
       "      <td>5998</td>\n",
       "      <td>ENVIRONMENT</td>\n",
       "      <td>climate change could turn greenland well green...</td>\n",
       "    </tr>\n",
       "    <tr>\n",
       "      <td>5999</td>\n",
       "      <td>ENVIRONMENT</td>\n",
       "      <td>diy tshirt project idea reusing old tee networ...</td>\n",
       "    </tr>\n",
       "  </tbody>\n",
       "</table>\n",
       "</div>"
      ],
      "text/plain": [
       "         category                                               text\n",
       "5995  ENVIRONMENT  kemosabe chatty porcupine eats banana video ke...\n",
       "5996  ENVIRONMENT  bear camera capture life eye alaskan animal vi...\n",
       "5997  ENVIRONMENT  first day fall autumnal equinox arrives septem...\n",
       "5998  ENVIRONMENT  climate change could turn greenland well green...\n",
       "5999  ENVIRONMENT  diy tshirt project idea reusing old tee networ..."
      ]
     },
     "execution_count": 32,
     "metadata": {},
     "output_type": "execute_result"
    }
   ],
   "source": [
    "df = pd.read_csv('forModelTraining.csv',index_col=0)\n",
    "df.tail()"
   ]
  },
  {
   "cell_type": "code",
   "execution_count": 33,
   "metadata": {},
   "outputs": [],
   "source": [
    "y = pd.DataFrame(df['category'])\n",
    "X = pd.DataFrame(df['text'])"
   ]
  },
  {
   "cell_type": "code",
   "execution_count": 34,
   "metadata": {},
   "outputs": [],
   "source": [
    "from sklearn.model_selection import train_test_split\n",
    "X_train, X_test, y_train, y_test = train_test_split(X, y, test_size = 0.2)"
   ]
  },
  {
   "cell_type": "code",
   "execution_count": 35,
   "metadata": {},
   "outputs": [],
   "source": [
    "from sklearn.feature_extraction.text import CountVectorizer\n",
    "from sklearn.feature_extraction.text import TfidfTransformer\n",
    "from sklearn.naive_bayes import MultinomialNB\n",
    "from sklearn.pipeline import Pipeline\n",
    "text_clf = Pipeline([\n",
    "('vect', CountVectorizer()),\n",
    "('tfidf', TfidfTransformer()),\n",
    "('clf', MultinomialNB()),\n",
    "])"
   ]
  },
  {
   "cell_type": "code",
   "execution_count": 65,
   "metadata": {},
   "outputs": [
    {
     "data": {
      "text/plain": [
       "0.7225"
      ]
     },
     "execution_count": 65,
     "metadata": {},
     "output_type": "execute_result"
    }
   ],
   "source": [
    "import numpy as np\n",
    "text_clf.fit(X_train['text'].values.astype(str), y_train['category'].values.astype(str))\n",
    "predicted = text_clf.predict(X_test['text'].values.astype(str))\n",
    "np.mean(predicted == y_test['category'].values.astype(str))"
   ]
  },
  {
   "cell_type": "code",
   "execution_count": 7,
   "metadata": {},
   "outputs": [
    {
     "name": "stdout",
     "output_type": "stream",
     "text": [
      "              precision    recall  f1-score   support\n",
      "\n",
      "    BUSINESS       0.75      0.60      0.67       204\n",
      " ENVIRONMENT       0.69      0.85      0.76       180\n",
      "     GENERAL       0.58      0.76      0.66       204\n",
      "    POLITICS       0.75      0.69      0.72       207\n",
      "     SCIENCE       0.81      0.54      0.65       203\n",
      "        TECH       0.76      0.83      0.79       202\n",
      "\n",
      "    accuracy                           0.71      1200\n",
      "   macro avg       0.72      0.71      0.71      1200\n",
      "weighted avg       0.72      0.71      0.71      1200\n",
      "\n"
     ]
    }
   ],
   "source": [
    "from sklearn import metrics\n",
    "print(metrics.classification_report(y_test, predicted))"
   ]
  },
  {
   "cell_type": "code",
   "execution_count": 66,
   "metadata": {},
   "outputs": [
    {
     "data": {
      "text/plain": [
       "0.6891666666666667"
      ]
     },
     "execution_count": 66,
     "metadata": {},
     "output_type": "execute_result"
    }
   ],
   "source": [
    "from sklearn.linear_model import SGDClassifier\n",
    "text_clf_svm = Pipeline([\n",
    "('vect', CountVectorizer()),\n",
    "('tfidf', TfidfTransformer()),\n",
    "('clf-svm', SGDClassifier(loss='hinge', penalty='l2',\n",
    "alpha=1e-3, random_state=42,\n",
    "max_iter=5, tol=None)),\n",
    "])\n",
    "\n",
    "text_clf_svm.fit(X_train['text'].values.astype(str), y_train['category'].values.astype(str))\n",
    "predicted = text_clf_svm.predict(X_test['text'].values.astype(str))\n",
    "np.mean(predicted == y_test['category'].values.astype(str))"
   ]
  },
  {
   "cell_type": "code",
   "execution_count": 9,
   "metadata": {},
   "outputs": [
    {
     "name": "stdout",
     "output_type": "stream",
     "text": [
      "              precision    recall  f1-score   support\n",
      "\n",
      "    BUSINESS       0.76      0.54      0.63       204\n",
      " ENVIRONMENT       0.73      0.79      0.76       180\n",
      "     GENERAL       0.55      0.80      0.66       204\n",
      "    POLITICS       0.76      0.70      0.73       207\n",
      "     SCIENCE       0.73      0.58      0.65       203\n",
      "        TECH       0.79      0.82      0.80       202\n",
      "\n",
      "    accuracy                           0.70      1200\n",
      "   macro avg       0.72      0.71      0.70      1200\n",
      "weighted avg       0.72      0.70      0.70      1200\n",
      "\n"
     ]
    }
   ],
   "source": [
    "from sklearn import metrics\n",
    "print(metrics.classification_report(y_test, predicted))"
   ]
  },
  {
   "cell_type": "code",
   "execution_count": 10,
   "metadata": {},
   "outputs": [],
   "source": [
    "from sklearn.neural_network import MLPClassifier\n",
    "\n",
    "text_clf_nn = Pipeline([\n",
    "('vect', CountVectorizer()),\n",
    "('tfidf', TfidfTransformer()),\n",
    "('clf-nn', MLPClassifier(solver='lbfgs', random_state=0)),\n",
    "])\n"
   ]
  },
  {
   "cell_type": "code",
   "execution_count": 38,
   "metadata": {},
   "outputs": [
    {
     "data": {
      "text/plain": [
       "0.71"
      ]
     },
     "execution_count": 38,
     "metadata": {},
     "output_type": "execute_result"
    }
   ],
   "source": [
    "text_clf_nn.fit(X_train['text'].values.astype(str), y_train['category'].values.astype(str))\n",
    "predicted = text_clf_nn.predict(X_test['text'].values.astype(str))\n",
    "np.mean(predicted == y_test['category'].values.astype(str))"
   ]
  },
  {
   "cell_type": "code",
   "execution_count": 12,
   "metadata": {},
   "outputs": [
    {
     "name": "stdout",
     "output_type": "stream",
     "text": [
      "              precision    recall  f1-score   support\n",
      "\n",
      "    BUSINESS       0.69      0.63      0.66       204\n",
      " ENVIRONMENT       0.71      0.77      0.74       180\n",
      "     GENERAL       0.55      0.78      0.65       204\n",
      "    POLITICS       0.74      0.65      0.69       207\n",
      "     SCIENCE       0.74      0.63      0.68       203\n",
      "        TECH       0.82      0.73      0.77       202\n",
      "\n",
      "    accuracy                           0.69      1200\n",
      "   macro avg       0.71      0.70      0.70      1200\n",
      "weighted avg       0.71      0.69      0.70      1200\n",
      "\n"
     ]
    }
   ],
   "source": [
    "from sklearn import metrics\n",
    "print(metrics.classification_report(y_test, predicted))"
   ]
  },
  {
   "cell_type": "code",
   "execution_count": 13,
   "metadata": {},
   "outputs": [],
   "source": [
    "from sklearn.model_selection import GridSearchCV\n",
    "parameters = {\n",
    "'vect__ngram_range': [(1, 1), (1, 2)],\n",
    "'tfidf__use_idf': (True, False),\n",
    "'clf__alpha': (1e-2, 1e-3),\n",
    "}"
   ]
  },
  {
   "cell_type": "code",
   "execution_count": 14,
   "metadata": {},
   "outputs": [
    {
     "name": "stderr",
     "output_type": "stream",
     "text": [
      "C:\\Users\\win24\\Anaconda3\\lib\\site-packages\\sklearn\\model_selection\\_split.py:1978: FutureWarning: The default value of cv will change from 3 to 5 in version 0.22. Specify it explicitly to silence this warning.\n",
      "  warnings.warn(CV_WARNING, FutureWarning)\n"
     ]
    }
   ],
   "source": [
    "gs_clf = GridSearchCV(text_clf, parameters, n_jobs=-1)\n",
    "gs_clf = gs_clf.fit(X_train['text'].values.astype(str), y_train['category'].values.astype(str))"
   ]
  },
  {
   "cell_type": "code",
   "execution_count": 15,
   "metadata": {},
   "outputs": [
    {
     "name": "stdout",
     "output_type": "stream",
     "text": [
      "0.6697916666666667\n",
      "{'clf__alpha': 0.01, 'tfidf__use_idf': False, 'vect__ngram_range': (1, 2)}\n"
     ]
    }
   ],
   "source": [
    "print(gs_clf.best_score_)\n",
    "print(gs_clf.best_params_)"
   ]
  },
  {
   "cell_type": "code",
   "execution_count": 16,
   "metadata": {},
   "outputs": [
    {
     "name": "stderr",
     "output_type": "stream",
     "text": [
      "C:\\Users\\win24\\Anaconda3\\lib\\site-packages\\sklearn\\model_selection\\_split.py:1978: FutureWarning: The default value of cv will change from 3 to 5 in version 0.22. Specify it explicitly to silence this warning.\n",
      "  warnings.warn(CV_WARNING, FutureWarning)\n"
     ]
    },
    {
     "name": "stdout",
     "output_type": "stream",
     "text": [
      "0.6910416666666667\n",
      "{'clf-svm__alpha': 0.001, 'tfidf__use_idf': True, 'vect__ngram_range': (1, 2)}\n"
     ]
    }
   ],
   "source": [
    "from sklearn.model_selection import GridSearchCV\n",
    "parameters_svm = {'vect__ngram_range': [(1, 1), (1, 2)],\n",
    "'tfidf__use_idf': (True, False),\n",
    "'clf-svm__alpha': (1e-2, 1e-3),\n",
    "}\n",
    "gs_clf_svm = GridSearchCV(text_clf_svm, parameters_svm, n_jobs=-1)\n",
    "gs_clf_svm = gs_clf_svm.fit(X_train['text'].values.astype(str), y_train['category'].values.astype(str))\n",
    "print(gs_clf_svm.best_score_)\n",
    "print(gs_clf_svm.best_params_)"
   ]
  },
  {
   "cell_type": "code",
   "execution_count": null,
   "metadata": {},
   "outputs": [],
   "source": []
  },
  {
   "cell_type": "code",
   "execution_count": 76,
   "metadata": {},
   "outputs": [
    {
     "data": {
      "text/html": [
       "<div>\n",
       "<style scoped>\n",
       "    .dataframe tbody tr th:only-of-type {\n",
       "        vertical-align: middle;\n",
       "    }\n",
       "\n",
       "    .dataframe tbody tr th {\n",
       "        vertical-align: top;\n",
       "    }\n",
       "\n",
       "    .dataframe thead th {\n",
       "        text-align: right;\n",
       "    }\n",
       "</style>\n",
       "<table border=\"1\" class=\"dataframe\">\n",
       "  <thead>\n",
       "    <tr style=\"text-align: right;\">\n",
       "      <th></th>\n",
       "      <th>category</th>\n",
       "      <th>predicted_category</th>\n",
       "      <th>text</th>\n",
       "    </tr>\n",
       "  </thead>\n",
       "  <tbody>\n",
       "    <tr>\n",
       "      <td>995</td>\n",
       "      <td>GENERAL</td>\n",
       "      <td>995</td>\n",
       "      <td>japan expanding state emergency entire nation ...</td>\n",
       "    </tr>\n",
       "    <tr>\n",
       "      <td>996</td>\n",
       "      <td>GENERAL</td>\n",
       "      <td>996</td>\n",
       "      <td>south african president extends lockdown two w...</td>\n",
       "    </tr>\n",
       "    <tr>\n",
       "      <td>997</td>\n",
       "      <td>GENERAL</td>\n",
       "      <td>997</td>\n",
       "      <td>uk report largest oneday death toll coronaviru...</td>\n",
       "    </tr>\n",
       "    <tr>\n",
       "      <td>998</td>\n",
       "      <td>POLITICS</td>\n",
       "      <td>998</td>\n",
       "      <td>hill campaign report biden seek counter trump ...</td>\n",
       "    </tr>\n",
       "    <tr>\n",
       "      <td>999</td>\n",
       "      <td>GENERAL</td>\n",
       "      <td>999</td>\n",
       "      <td>nigeria issue warning drug touted trump overdo...</td>\n",
       "    </tr>\n",
       "  </tbody>\n",
       "</table>\n",
       "</div>"
      ],
      "text/plain": [
       "     category  predicted_category  \\\n",
       "995   GENERAL                 995   \n",
       "996   GENERAL                 996   \n",
       "997   GENERAL                 997   \n",
       "998  POLITICS                 998   \n",
       "999   GENERAL                 999   \n",
       "\n",
       "                                                  text  \n",
       "995  japan expanding state emergency entire nation ...  \n",
       "996  south african president extends lockdown two w...  \n",
       "997  uk report largest oneday death toll coronaviru...  \n",
       "998  hill campaign report biden seek counter trump ...  \n",
       "999  nigeria issue warning drug touted trump overdo...  "
      ]
     },
     "execution_count": 76,
     "metadata": {},
     "output_type": "execute_result"
    }
   ],
   "source": [
    "df2 = pd.read_csv('forEvaluating_v2.csv',index_col=0)\n",
    "df2.tail()"
   ]
  },
  {
   "cell_type": "code",
   "execution_count": 81,
   "metadata": {},
   "outputs": [],
   "source": [
    "y = pd.DataFrame(df2['category'])\n",
    "X = pd.DataFrame(df2['text'])"
   ]
  },
  {
   "cell_type": "code",
   "execution_count": 82,
   "metadata": {},
   "outputs": [
    {
     "data": {
      "text/plain": [
       "0.582"
      ]
     },
     "execution_count": 82,
     "metadata": {},
     "output_type": "execute_result"
    }
   ],
   "source": [
    "text_clf_svm.fit(X_train['text'].values.astype(str), y_train['category'].values.astype(str))\n",
    "predicted = text_clf_svm.predict((X['text'].values.astype(str)))\n",
    "np.mean(predicted == y['category'].values.astype(str))"
   ]
  },
  {
   "cell_type": "code",
   "execution_count": 90,
   "metadata": {},
   "outputs": [
    {
     "name": "stdout",
     "output_type": "stream",
     "text": [
      "Time taken to train model: 0:00:00.169011 seconds\n"
     ]
    }
   ],
   "source": [
    "start_time = datetime.now()\n",
    "text_clf_svm.fit(X_train['text'].values.astype(str), y_train['category'].values.astype(str))\n",
    "print('Time taken to train model: ' + str(datetime.now() - start_time) + ' seconds')"
   ]
  },
  {
   "cell_type": "code",
   "execution_count": 91,
   "metadata": {},
   "outputs": [
    {
     "name": "stdout",
     "output_type": "stream",
     "text": [
      "Time taken to apply model: 0:00:00.056816 seconds\n"
     ]
    }
   ],
   "source": [
    "start_time = datetime.now()\n",
    "predicted = text_clf_svm.predict((X['text'].values.astype(str)))\n",
    "print('Time taken to apply model: ' + str(datetime.now() - start_time) + ' seconds')"
   ]
  },
  {
   "cell_type": "code",
   "execution_count": 67,
   "metadata": {},
   "outputs": [
    {
     "data": {
      "text/html": [
       "<div>\n",
       "<style scoped>\n",
       "    .dataframe tbody tr th:only-of-type {\n",
       "        vertical-align: middle;\n",
       "    }\n",
       "\n",
       "    .dataframe tbody tr th {\n",
       "        vertical-align: top;\n",
       "    }\n",
       "\n",
       "    .dataframe thead th {\n",
       "        text-align: right;\n",
       "    }\n",
       "</style>\n",
       "<table border=\"1\" class=\"dataframe\">\n",
       "  <thead>\n",
       "    <tr style=\"text-align: right;\">\n",
       "      <th></th>\n",
       "      <th>text</th>\n",
       "      <th>predicted_category</th>\n",
       "    </tr>\n",
       "  </thead>\n",
       "  <tbody>\n",
       "    <tr>\n",
       "      <td>11666</td>\n",
       "      <td>hong kong highly resilient fight save economy ...</td>\n",
       "      <td>Weizhen Tan</td>\n",
       "    </tr>\n",
       "    <tr>\n",
       "      <td>11667</td>\n",
       "      <td>unreasonable china economy shrink 10 first qua...</td>\n",
       "      <td>Evelyn Cheng</td>\n",
       "    </tr>\n",
       "    <tr>\n",
       "      <td>11668</td>\n",
       "      <td>u company still betting chinese consumer despi...</td>\n",
       "      <td>Evelyn Cheng</td>\n",
       "    </tr>\n",
       "    <tr>\n",
       "      <td>11669</td>\n",
       "      <td>coronavirus live update global case 856900 dea...</td>\n",
       "      <td>Saheli Roy Choudhury</td>\n",
       "    </tr>\n",
       "    <tr>\n",
       "      <td>11670</td>\n",
       "      <td>u clinical trial hydroxychloroquine hit warp s...</td>\n",
       "      <td>Berkeley Lovelace Jr.</td>\n",
       "    </tr>\n",
       "  </tbody>\n",
       "</table>\n",
       "</div>"
      ],
      "text/plain": [
       "                                                    text  \\\n",
       "11666  hong kong highly resilient fight save economy ...   \n",
       "11667  unreasonable china economy shrink 10 first qua...   \n",
       "11668  u company still betting chinese consumer despi...   \n",
       "11669  coronavirus live update global case 856900 dea...   \n",
       "11670  u clinical trial hydroxychloroquine hit warp s...   \n",
       "\n",
       "          predicted_category  \n",
       "11666            Weizhen Tan  \n",
       "11667           Evelyn Cheng  \n",
       "11668           Evelyn Cheng  \n",
       "11669   Saheli Roy Choudhury  \n",
       "11670  Berkeley Lovelace Jr.  "
      ]
     },
     "execution_count": 67,
     "metadata": {},
     "output_type": "execute_result"
    }
   ],
   "source": [
    "df3 = pd.read_json('forPredicting.json')\n",
    "df3.tail()"
   ]
  },
  {
   "cell_type": "code",
   "execution_count": 68,
   "metadata": {},
   "outputs": [],
   "source": [
    "X = pd.DataFrame(df3['text'])"
   ]
  },
  {
   "cell_type": "code",
   "execution_count": 69,
   "metadata": {},
   "outputs": [],
   "source": [
    "text_clf_svm.fit(X_train['text'].values.astype(str), y_train['category'].values.astype(str))\n",
    "predicted = text_clf_svm.predict((X['text'].values.astype(str)))"
   ]
  },
  {
   "cell_type": "code",
   "execution_count": 71,
   "metadata": {},
   "outputs": [
    {
     "data": {
      "text/html": [
       "<div>\n",
       "<style scoped>\n",
       "    .dataframe tbody tr th:only-of-type {\n",
       "        vertical-align: middle;\n",
       "    }\n",
       "\n",
       "    .dataframe tbody tr th {\n",
       "        vertical-align: top;\n",
       "    }\n",
       "\n",
       "    .dataframe thead th {\n",
       "        text-align: right;\n",
       "    }\n",
       "</style>\n",
       "<table border=\"1\" class=\"dataframe\">\n",
       "  <thead>\n",
       "    <tr style=\"text-align: right;\">\n",
       "      <th></th>\n",
       "      <th>description</th>\n",
       "      <th>title</th>\n",
       "      <th>url</th>\n",
       "      <th>author</th>\n",
       "      <th>publishedAt</th>\n",
       "      <th>content</th>\n",
       "      <th>source</th>\n",
       "      <th>urlToImage</th>\n",
       "      <th>predicted_category</th>\n",
       "    </tr>\n",
       "  </thead>\n",
       "  <tbody>\n",
       "    <tr>\n",
       "      <td>11666</td>\n",
       "      <td>Hong Kong is fighting a \"twin battle\" of the c...</td>\n",
       "      <td>Hong Kong is 'highly resilient' as it fights t...</td>\n",
       "      <td>https://www.cnbc.com/2020/04/14/coronavirus-ho...</td>\n",
       "      <td>Weizhen Tan</td>\n",
       "      <td>2020-04-14T06:39:13Z</td>\n",
       "      <td>Hong Kong's popular nightlife district, Lan Kw...</td>\n",
       "      <td>{'id': 'cnbc', 'name': 'CNBC'}</td>\n",
       "      <td>https://image.cnbcfm.com/api/v1/image/10647610...</td>\n",
       "      <td>Weizhen Tan</td>\n",
       "    </tr>\n",
       "    <tr>\n",
       "      <td>11667</td>\n",
       "      <td>An early look at Chinese business conditions i...</td>\n",
       "      <td>'Not unreasonable' for China's economy to shri...</td>\n",
       "      <td>https://www.cnbc.com/2020/03/24/china-beige-bo...</td>\n",
       "      <td>Evelyn Cheng</td>\n",
       "      <td>2020-03-24T06:46:36Z</td>\n",
       "      <td>People wear masks as they cross a street durin...</td>\n",
       "      <td>{'id': 'cnbc', 'name': 'CNBC'}</td>\n",
       "      <td>https://image.cnbcfm.com/api/v1/image/10642183...</td>\n",
       "      <td>Evelyn Cheng</td>\n",
       "    </tr>\n",
       "    <tr>\n",
       "      <td>11668</td>\n",
       "      <td>The American Chamber of Commerce in China's su...</td>\n",
       "      <td>US companies are still betting on Chinese cons...</td>\n",
       "      <td>https://www.cnbc.com/2020/03/26/us-companies-s...</td>\n",
       "      <td>Evelyn Cheng</td>\n",
       "      <td>2020-03-25T23:28:43Z</td>\n",
       "      <td>An employee works next to shoes on display ins...</td>\n",
       "      <td>{'id': 'cnbc', 'name': 'CNBC'}</td>\n",
       "      <td>https://image.cnbcfm.com/api/v1/image/10598809...</td>\n",
       "      <td>Evelyn Cheng</td>\n",
       "    </tr>\n",
       "    <tr>\n",
       "      <td>11669</td>\n",
       "      <td>Most of the deaths occurred in Europe: 12,428 ...</td>\n",
       "      <td>Coronavirus live updates: Global cases over 85...</td>\n",
       "      <td>https://www.cnbc.com/2020/04/01/coronavirus-li...</td>\n",
       "      <td>Saheli Roy Choudhury</td>\n",
       "      <td>2020-04-01T00:34:44Z</td>\n",
       "      <td>This is a live blog. Please check back for upd...</td>\n",
       "      <td>{'id': 'cnbc', 'name': 'CNBC'}</td>\n",
       "      <td>https://image.cnbcfm.com/api/v1/image/10646758...</td>\n",
       "      <td>Saheli Roy Choudhury</td>\n",
       "    </tr>\n",
       "    <tr>\n",
       "      <td>11670</td>\n",
       "      <td>Researchers at NYU Langone on March 24 launche...</td>\n",
       "      <td>US clinical trials of hydroxychloroquine hit '...</td>\n",
       "      <td>https://www.cnbc.com/2020/04/15/coronavirus-us...</td>\n",
       "      <td>Berkeley Lovelace Jr.</td>\n",
       "      <td>2020-04-15T12:50:57Z</td>\n",
       "      <td>A bottle of Prasco Laboratories Hydroxychloroq...</td>\n",
       "      <td>{'id': 'cnbc', 'name': 'CNBC'}</td>\n",
       "      <td>https://image.cnbcfm.com/api/v1/image/10648079...</td>\n",
       "      <td>Berkeley Lovelace Jr.</td>\n",
       "    </tr>\n",
       "  </tbody>\n",
       "</table>\n",
       "</div>"
      ],
      "text/plain": [
       "                                             description  \\\n",
       "11666  Hong Kong is fighting a \"twin battle\" of the c...   \n",
       "11667  An early look at Chinese business conditions i...   \n",
       "11668  The American Chamber of Commerce in China's su...   \n",
       "11669  Most of the deaths occurred in Europe: 12,428 ...   \n",
       "11670  Researchers at NYU Langone on March 24 launche...   \n",
       "\n",
       "                                                   title  \\\n",
       "11666  Hong Kong is 'highly resilient' as it fights t...   \n",
       "11667  'Not unreasonable' for China's economy to shri...   \n",
       "11668  US companies are still betting on Chinese cons...   \n",
       "11669  Coronavirus live updates: Global cases over 85...   \n",
       "11670  US clinical trials of hydroxychloroquine hit '...   \n",
       "\n",
       "                                                     url  \\\n",
       "11666  https://www.cnbc.com/2020/04/14/coronavirus-ho...   \n",
       "11667  https://www.cnbc.com/2020/03/24/china-beige-bo...   \n",
       "11668  https://www.cnbc.com/2020/03/26/us-companies-s...   \n",
       "11669  https://www.cnbc.com/2020/04/01/coronavirus-li...   \n",
       "11670  https://www.cnbc.com/2020/04/15/coronavirus-us...   \n",
       "\n",
       "                      author           publishedAt  \\\n",
       "11666            Weizhen Tan  2020-04-14T06:39:13Z   \n",
       "11667           Evelyn Cheng  2020-03-24T06:46:36Z   \n",
       "11668           Evelyn Cheng  2020-03-25T23:28:43Z   \n",
       "11669   Saheli Roy Choudhury  2020-04-01T00:34:44Z   \n",
       "11670  Berkeley Lovelace Jr.  2020-04-15T12:50:57Z   \n",
       "\n",
       "                                                 content  \\\n",
       "11666  Hong Kong's popular nightlife district, Lan Kw...   \n",
       "11667  People wear masks as they cross a street durin...   \n",
       "11668  An employee works next to shoes on display ins...   \n",
       "11669  This is a live blog. Please check back for upd...   \n",
       "11670  A bottle of Prasco Laboratories Hydroxychloroq...   \n",
       "\n",
       "                               source  \\\n",
       "11666  {'id': 'cnbc', 'name': 'CNBC'}   \n",
       "11667  {'id': 'cnbc', 'name': 'CNBC'}   \n",
       "11668  {'id': 'cnbc', 'name': 'CNBC'}   \n",
       "11669  {'id': 'cnbc', 'name': 'CNBC'}   \n",
       "11670  {'id': 'cnbc', 'name': 'CNBC'}   \n",
       "\n",
       "                                              urlToImage  \\\n",
       "11666  https://image.cnbcfm.com/api/v1/image/10647610...   \n",
       "11667  https://image.cnbcfm.com/api/v1/image/10642183...   \n",
       "11668  https://image.cnbcfm.com/api/v1/image/10598809...   \n",
       "11669  https://image.cnbcfm.com/api/v1/image/10646758...   \n",
       "11670  https://image.cnbcfm.com/api/v1/image/10648079...   \n",
       "\n",
       "          predicted_category  \n",
       "11666            Weizhen Tan  \n",
       "11667           Evelyn Cheng  \n",
       "11668           Evelyn Cheng  \n",
       "11669   Saheli Roy Choudhury  \n",
       "11670  Berkeley Lovelace Jr.  "
      ]
     },
     "execution_count": 71,
     "metadata": {},
     "output_type": "execute_result"
    }
   ],
   "source": [
    "df4 = pd.read_json('Combined.json')\n",
    "df4['predicted_category'] = df4['author']\n",
    "df4.tail()"
   ]
  },
  {
   "cell_type": "code",
   "execution_count": 72,
   "metadata": {},
   "outputs": [],
   "source": [
    "for i, row in df4.iterrows():\n",
    "    df4.at[i,'predicted_category'] = predicted[i]"
   ]
  },
  {
   "cell_type": "code",
   "execution_count": 75,
   "metadata": {
    "scrolled": true
   },
   "outputs": [
    {
     "data": {
      "text/html": [
       "<div>\n",
       "<style scoped>\n",
       "    .dataframe tbody tr th:only-of-type {\n",
       "        vertical-align: middle;\n",
       "    }\n",
       "\n",
       "    .dataframe tbody tr th {\n",
       "        vertical-align: top;\n",
       "    }\n",
       "\n",
       "    .dataframe thead th {\n",
       "        text-align: right;\n",
       "    }\n",
       "</style>\n",
       "<table border=\"1\" class=\"dataframe\">\n",
       "  <thead>\n",
       "    <tr style=\"text-align: right;\">\n",
       "      <th></th>\n",
       "      <th>description</th>\n",
       "      <th>title</th>\n",
       "      <th>url</th>\n",
       "      <th>author</th>\n",
       "      <th>publishedAt</th>\n",
       "      <th>content</th>\n",
       "      <th>source</th>\n",
       "      <th>urlToImage</th>\n",
       "      <th>predicted_category</th>\n",
       "    </tr>\n",
       "  </thead>\n",
       "  <tbody>\n",
       "    <tr>\n",
       "      <td>11666</td>\n",
       "      <td>Hong Kong is fighting a \"twin battle\" of the c...</td>\n",
       "      <td>Hong Kong is 'highly resilient' as it fights t...</td>\n",
       "      <td>https://www.cnbc.com/2020/04/14/coronavirus-ho...</td>\n",
       "      <td>Weizhen Tan</td>\n",
       "      <td>2020-04-14T06:39:13Z</td>\n",
       "      <td>Hong Kong's popular nightlife district, Lan Kw...</td>\n",
       "      <td>{'id': 'cnbc', 'name': 'CNBC'}</td>\n",
       "      <td>https://image.cnbcfm.com/api/v1/image/10647610...</td>\n",
       "      <td>BUSINESS</td>\n",
       "    </tr>\n",
       "    <tr>\n",
       "      <td>11667</td>\n",
       "      <td>An early look at Chinese business conditions i...</td>\n",
       "      <td>'Not unreasonable' for China's economy to shri...</td>\n",
       "      <td>https://www.cnbc.com/2020/03/24/china-beige-bo...</td>\n",
       "      <td>Evelyn Cheng</td>\n",
       "      <td>2020-03-24T06:46:36Z</td>\n",
       "      <td>People wear masks as they cross a street durin...</td>\n",
       "      <td>{'id': 'cnbc', 'name': 'CNBC'}</td>\n",
       "      <td>https://image.cnbcfm.com/api/v1/image/10642183...</td>\n",
       "      <td>BUSINESS</td>\n",
       "    </tr>\n",
       "    <tr>\n",
       "      <td>11668</td>\n",
       "      <td>The American Chamber of Commerce in China's su...</td>\n",
       "      <td>US companies are still betting on Chinese cons...</td>\n",
       "      <td>https://www.cnbc.com/2020/03/26/us-companies-s...</td>\n",
       "      <td>Evelyn Cheng</td>\n",
       "      <td>2020-03-25T23:28:43Z</td>\n",
       "      <td>An employee works next to shoes on display ins...</td>\n",
       "      <td>{'id': 'cnbc', 'name': 'CNBC'}</td>\n",
       "      <td>https://image.cnbcfm.com/api/v1/image/10598809...</td>\n",
       "      <td>BUSINESS</td>\n",
       "    </tr>\n",
       "    <tr>\n",
       "      <td>11669</td>\n",
       "      <td>Most of the deaths occurred in Europe: 12,428 ...</td>\n",
       "      <td>Coronavirus live updates: Global cases over 85...</td>\n",
       "      <td>https://www.cnbc.com/2020/04/01/coronavirus-li...</td>\n",
       "      <td>Saheli Roy Choudhury</td>\n",
       "      <td>2020-04-01T00:34:44Z</td>\n",
       "      <td>This is a live blog. Please check back for upd...</td>\n",
       "      <td>{'id': 'cnbc', 'name': 'CNBC'}</td>\n",
       "      <td>https://image.cnbcfm.com/api/v1/image/10646758...</td>\n",
       "      <td>GENERAL</td>\n",
       "    </tr>\n",
       "    <tr>\n",
       "      <td>11670</td>\n",
       "      <td>Researchers at NYU Langone on March 24 launche...</td>\n",
       "      <td>US clinical trials of hydroxychloroquine hit '...</td>\n",
       "      <td>https://www.cnbc.com/2020/04/15/coronavirus-us...</td>\n",
       "      <td>Berkeley Lovelace Jr.</td>\n",
       "      <td>2020-04-15T12:50:57Z</td>\n",
       "      <td>A bottle of Prasco Laboratories Hydroxychloroq...</td>\n",
       "      <td>{'id': 'cnbc', 'name': 'CNBC'}</td>\n",
       "      <td>https://image.cnbcfm.com/api/v1/image/10648079...</td>\n",
       "      <td>SCIENCE</td>\n",
       "    </tr>\n",
       "  </tbody>\n",
       "</table>\n",
       "</div>"
      ],
      "text/plain": [
       "                                             description  \\\n",
       "11666  Hong Kong is fighting a \"twin battle\" of the c...   \n",
       "11667  An early look at Chinese business conditions i...   \n",
       "11668  The American Chamber of Commerce in China's su...   \n",
       "11669  Most of the deaths occurred in Europe: 12,428 ...   \n",
       "11670  Researchers at NYU Langone on March 24 launche...   \n",
       "\n",
       "                                                   title  \\\n",
       "11666  Hong Kong is 'highly resilient' as it fights t...   \n",
       "11667  'Not unreasonable' for China's economy to shri...   \n",
       "11668  US companies are still betting on Chinese cons...   \n",
       "11669  Coronavirus live updates: Global cases over 85...   \n",
       "11670  US clinical trials of hydroxychloroquine hit '...   \n",
       "\n",
       "                                                     url  \\\n",
       "11666  https://www.cnbc.com/2020/04/14/coronavirus-ho...   \n",
       "11667  https://www.cnbc.com/2020/03/24/china-beige-bo...   \n",
       "11668  https://www.cnbc.com/2020/03/26/us-companies-s...   \n",
       "11669  https://www.cnbc.com/2020/04/01/coronavirus-li...   \n",
       "11670  https://www.cnbc.com/2020/04/15/coronavirus-us...   \n",
       "\n",
       "                      author           publishedAt  \\\n",
       "11666            Weizhen Tan  2020-04-14T06:39:13Z   \n",
       "11667           Evelyn Cheng  2020-03-24T06:46:36Z   \n",
       "11668           Evelyn Cheng  2020-03-25T23:28:43Z   \n",
       "11669   Saheli Roy Choudhury  2020-04-01T00:34:44Z   \n",
       "11670  Berkeley Lovelace Jr.  2020-04-15T12:50:57Z   \n",
       "\n",
       "                                                 content  \\\n",
       "11666  Hong Kong's popular nightlife district, Lan Kw...   \n",
       "11667  People wear masks as they cross a street durin...   \n",
       "11668  An employee works next to shoes on display ins...   \n",
       "11669  This is a live blog. Please check back for upd...   \n",
       "11670  A bottle of Prasco Laboratories Hydroxychloroq...   \n",
       "\n",
       "                               source  \\\n",
       "11666  {'id': 'cnbc', 'name': 'CNBC'}   \n",
       "11667  {'id': 'cnbc', 'name': 'CNBC'}   \n",
       "11668  {'id': 'cnbc', 'name': 'CNBC'}   \n",
       "11669  {'id': 'cnbc', 'name': 'CNBC'}   \n",
       "11670  {'id': 'cnbc', 'name': 'CNBC'}   \n",
       "\n",
       "                                              urlToImage predicted_category  \n",
       "11666  https://image.cnbcfm.com/api/v1/image/10647610...           BUSINESS  \n",
       "11667  https://image.cnbcfm.com/api/v1/image/10642183...           BUSINESS  \n",
       "11668  https://image.cnbcfm.com/api/v1/image/10598809...           BUSINESS  \n",
       "11669  https://image.cnbcfm.com/api/v1/image/10646758...            GENERAL  \n",
       "11670  https://image.cnbcfm.com/api/v1/image/10648079...            SCIENCE  "
      ]
     },
     "execution_count": 75,
     "metadata": {},
     "output_type": "execute_result"
    }
   ],
   "source": [
    "df4.tail()"
   ]
  },
  {
   "cell_type": "code",
   "execution_count": 74,
   "metadata": {},
   "outputs": [],
   "source": [
    "df4.to_json(\"Combined Predicted.json\")"
   ]
  },
  {
   "cell_type": "code",
   "execution_count": null,
   "metadata": {},
   "outputs": [],
   "source": []
  }
 ],
 "metadata": {
  "kernelspec": {
   "display_name": "Python 3",
   "language": "python",
   "name": "python3"
  },
  "language_info": {
   "codemirror_mode": {
    "name": "ipython",
    "version": 3
   },
   "file_extension": ".py",
   "mimetype": "text/x-python",
   "name": "python",
   "nbconvert_exporter": "python",
   "pygments_lexer": "ipython3",
   "version": "3.7.4"
  }
 },
 "nbformat": 4,
 "nbformat_minor": 2
}
