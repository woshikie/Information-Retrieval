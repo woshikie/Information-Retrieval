{
 "cells": [
  {
   "cell_type": "code",
   "execution_count": 1,
   "metadata": {},
   "outputs": [],
   "source": [
    "import pandas as pd"
   ]
  },
  {
   "cell_type": "code",
   "execution_count": 2,
   "metadata": {
    "scrolled": true
   },
   "outputs": [
    {
     "data": {
      "text/html": [
       "<div>\n",
       "<style scoped>\n",
       "    .dataframe tbody tr th:only-of-type {\n",
       "        vertical-align: middle;\n",
       "    }\n",
       "\n",
       "    .dataframe tbody tr th {\n",
       "        vertical-align: top;\n",
       "    }\n",
       "\n",
       "    .dataframe thead th {\n",
       "        text-align: right;\n",
       "    }\n",
       "</style>\n",
       "<table border=\"1\" class=\"dataframe\">\n",
       "  <thead>\n",
       "    <tr style=\"text-align: right;\">\n",
       "      <th></th>\n",
       "      <th>category</th>\n",
       "      <th>text</th>\n",
       "    </tr>\n",
       "  </thead>\n",
       "  <tbody>\n",
       "    <tr>\n",
       "      <td>5995</td>\n",
       "      <td>ENVIRONMENT</td>\n",
       "      <td>kemosabe chatty porcupine eats banana video ke...</td>\n",
       "    </tr>\n",
       "    <tr>\n",
       "      <td>5996</td>\n",
       "      <td>ENVIRONMENT</td>\n",
       "      <td>bear camera capture life eye alaskan animal vi...</td>\n",
       "    </tr>\n",
       "    <tr>\n",
       "      <td>5997</td>\n",
       "      <td>ENVIRONMENT</td>\n",
       "      <td>first day fall autumnal equinox arrives septem...</td>\n",
       "    </tr>\n",
       "    <tr>\n",
       "      <td>5998</td>\n",
       "      <td>ENVIRONMENT</td>\n",
       "      <td>climate change could turn greenland well green...</td>\n",
       "    </tr>\n",
       "    <tr>\n",
       "      <td>5999</td>\n",
       "      <td>ENVIRONMENT</td>\n",
       "      <td>diy tshirt project idea reusing old tee networ...</td>\n",
       "    </tr>\n",
       "  </tbody>\n",
       "</table>\n",
       "</div>"
      ],
      "text/plain": [
       "         category                                               text\n",
       "5995  ENVIRONMENT  kemosabe chatty porcupine eats banana video ke...\n",
       "5996  ENVIRONMENT  bear camera capture life eye alaskan animal vi...\n",
       "5997  ENVIRONMENT  first day fall autumnal equinox arrives septem...\n",
       "5998  ENVIRONMENT  climate change could turn greenland well green...\n",
       "5999  ENVIRONMENT  diy tshirt project idea reusing old tee networ..."
      ]
     },
     "execution_count": 2,
     "metadata": {},
     "output_type": "execute_result"
    }
   ],
   "source": [
    "df = pd.read_csv('forModelTraining.csv',index_col=0)\n",
    "df.tail()"
   ]
  },
  {
   "cell_type": "code",
   "execution_count": 3,
   "metadata": {},
   "outputs": [],
   "source": [
    "y = pd.DataFrame(df['category'])\n",
    "X = pd.DataFrame(df['text'])"
   ]
  },
  {
   "cell_type": "code",
   "execution_count": 4,
   "metadata": {},
   "outputs": [],
   "source": [
    "from sklearn.model_selection import train_test_split\n",
    "X_train, X_test, y_train, y_test = train_test_split(X, y, test_size = 0.2)"
   ]
  },
  {
   "cell_type": "code",
   "execution_count": 5,
   "metadata": {},
   "outputs": [],
   "source": [
    "from sklearn.feature_extraction.text import CountVectorizer\n",
    "from sklearn.feature_extraction.text import TfidfTransformer\n",
    "from sklearn.naive_bayes import MultinomialNB\n",
    "from sklearn.pipeline import Pipeline\n",
    "text_clf = Pipeline([\n",
    "('vect', CountVectorizer()),\n",
    "('tfidf', TfidfTransformer()),\n",
    "('clf', MultinomialNB()),\n",
    "])"
   ]
  },
  {
   "cell_type": "code",
   "execution_count": 9,
   "metadata": {},
   "outputs": [
    {
     "data": {
      "text/plain": [
       "0.6958333333333333"
      ]
     },
     "execution_count": 9,
     "metadata": {},
     "output_type": "execute_result"
    }
   ],
   "source": [
    "import numpy as np\n",
    "text_clf.fit(X_train['text'].values.astype(str), y_train['category'].values.astype(str))\n",
    "predicted = text_clf.predict(X_test['text'].values.astype(str))\n",
    "np.mean(predicted == y_test['category'].values.astype(str))"
   ]
  },
  {
   "cell_type": "code",
   "execution_count": 10,
   "metadata": {},
   "outputs": [
    {
     "name": "stdout",
     "output_type": "stream",
     "text": [
      "              precision    recall  f1-score   support\n",
      "\n",
      "    BUSINESS       0.70      0.57      0.63       201\n",
      " ENVIRONMENT       0.73      0.81      0.77       197\n",
      "     GENERAL       0.57      0.75      0.65       194\n",
      "    POLITICS       0.74      0.77      0.75       201\n",
      "     SCIENCE       0.86      0.53      0.66       221\n",
      "        TECH       0.65      0.77      0.71       186\n",
      "\n",
      "    accuracy                           0.70      1200\n",
      "   macro avg       0.71      0.70      0.69      1200\n",
      "weighted avg       0.71      0.70      0.69      1200\n",
      "\n"
     ]
    }
   ],
   "source": [
    "from sklearn import metrics\n",
    "print(metrics.classification_report(y_test, predicted))"
   ]
  },
  {
   "cell_type": "code",
   "execution_count": 12,
   "metadata": {},
   "outputs": [
    {
     "data": {
      "text/plain": [
       "0.7058333333333333"
      ]
     },
     "execution_count": 12,
     "metadata": {},
     "output_type": "execute_result"
    }
   ],
   "source": [
    "from sklearn.linear_model import SGDClassifier\n",
    "text_clf_svm = Pipeline([\n",
    "('vect', CountVectorizer()),\n",
    "('tfidf', TfidfTransformer()),\n",
    "('clf-svm', SGDClassifier(loss='hinge', penalty='l2',\n",
    "alpha=1e-3, random_state=42,\n",
    "max_iter=5, tol=None)),\n",
    "])\n",
    "\n",
    "text_clf_svm.fit(X_train['text'].values.astype(str), y_train['category'].values.astype(str))\n",
    "predicted = text_clf_svm.predict(X_test['text'].values.astype(str))\n",
    "np.mean(predicted == y_test['category'].values.astype(str))"
   ]
  },
  {
   "cell_type": "code",
   "execution_count": 13,
   "metadata": {},
   "outputs": [
    {
     "name": "stdout",
     "output_type": "stream",
     "text": [
      "              precision    recall  f1-score   support\n",
      "\n",
      "    BUSINESS       0.75      0.57      0.65       201\n",
      " ENVIRONMENT       0.72      0.75      0.73       197\n",
      "     GENERAL       0.80      0.61      0.70       194\n",
      "    POLITICS       0.76      0.69      0.73       201\n",
      "     SCIENCE       0.61      0.81      0.69       221\n",
      "        TECH       0.68      0.79      0.73       186\n",
      "\n",
      "    accuracy                           0.71      1200\n",
      "   macro avg       0.72      0.70      0.71      1200\n",
      "weighted avg       0.72      0.71      0.70      1200\n",
      "\n"
     ]
    }
   ],
   "source": [
    "from sklearn import metrics\n",
    "print(metrics.classification_report(y_test, predicted))"
   ]
  },
  {
   "cell_type": "code",
   "execution_count": 14,
   "metadata": {},
   "outputs": [],
   "source": [
    "from sklearn.neural_network import MLPClassifier\n",
    "\n",
    "text_clf_nn = Pipeline([\n",
    "('vect', CountVectorizer()),\n",
    "('tfidf', TfidfTransformer()),\n",
    "('clf-nn', MLPClassifier(solver='lbfgs', random_state=0)),\n",
    "])\n"
   ]
  },
  {
   "cell_type": "code",
   "execution_count": 15,
   "metadata": {},
   "outputs": [
    {
     "data": {
      "text/plain": [
       "0.6733333333333333"
      ]
     },
     "execution_count": 15,
     "metadata": {},
     "output_type": "execute_result"
    }
   ],
   "source": [
    "text_clf_nn.fit(X_train['text'].values.astype(str), y_train['category'].values.astype(str))\n",
    "predicted = text_clf_nn.predict(X_test['text'].values.astype(str))\n",
    "np.mean(predicted == y_test['category'].values.astype(str))"
   ]
  },
  {
   "cell_type": "code",
   "execution_count": 16,
   "metadata": {},
   "outputs": [
    {
     "name": "stdout",
     "output_type": "stream",
     "text": [
      "              precision    recall  f1-score   support\n",
      "\n",
      "    BUSINESS       0.69      0.60      0.64       201\n",
      " ENVIRONMENT       0.69      0.72      0.70       197\n",
      "     GENERAL       0.55      0.73      0.63       194\n",
      "    POLITICS       0.77      0.72      0.74       201\n",
      "     SCIENCE       0.77      0.57      0.65       221\n",
      "        TECH       0.64      0.73      0.68       186\n",
      "\n",
      "    accuracy                           0.67      1200\n",
      "   macro avg       0.68      0.68      0.67      1200\n",
      "weighted avg       0.69      0.67      0.67      1200\n",
      "\n"
     ]
    }
   ],
   "source": [
    "from sklearn import metrics\n",
    "print(metrics.classification_report(y_test, predicted))"
   ]
  },
  {
   "cell_type": "code",
   "execution_count": 17,
   "metadata": {},
   "outputs": [],
   "source": [
    "from sklearn.model_selection import GridSearchCV\n",
    "parameters = {\n",
    "'vect__ngram_range': [(1, 1), (1, 2)],\n",
    "'tfidf__use_idf': (True, False),\n",
    "'clf__alpha': (1e-2, 1e-3),\n",
    "}"
   ]
  },
  {
   "cell_type": "code",
   "execution_count": 19,
   "metadata": {},
   "outputs": [
    {
     "name": "stderr",
     "output_type": "stream",
     "text": [
      "C:\\Users\\win24\\Anaconda3\\lib\\site-packages\\sklearn\\model_selection\\_split.py:1978: FutureWarning: The default value of cv will change from 3 to 5 in version 0.22. Specify it explicitly to silence this warning.\n",
      "  warnings.warn(CV_WARNING, FutureWarning)\n"
     ]
    }
   ],
   "source": [
    "gs_clf = GridSearchCV(text_clf, parameters, n_jobs=-1)\n",
    "gs_clf = gs_clf.fit(X_train['text'].values.astype(str), y_train['category'].values.astype(str))"
   ]
  },
  {
   "cell_type": "code",
   "execution_count": 20,
   "metadata": {},
   "outputs": [
    {
     "name": "stdout",
     "output_type": "stream",
     "text": [
      "0.6825\n",
      "{'clf__alpha': 0.01, 'tfidf__use_idf': False, 'vect__ngram_range': (1, 2)}\n"
     ]
    }
   ],
   "source": [
    "print(gs_clf.best_score_)\n",
    "print(gs_clf.best_params_)"
   ]
  },
  {
   "cell_type": "code",
   "execution_count": 21,
   "metadata": {},
   "outputs": [
    {
     "name": "stderr",
     "output_type": "stream",
     "text": [
      "C:\\Users\\win24\\Anaconda3\\lib\\site-packages\\sklearn\\model_selection\\_split.py:1978: FutureWarning: The default value of cv will change from 3 to 5 in version 0.22. Specify it explicitly to silence this warning.\n",
      "  warnings.warn(CV_WARNING, FutureWarning)\n"
     ]
    },
    {
     "name": "stdout",
     "output_type": "stream",
     "text": [
      "0.690625\n",
      "{'clf-svm__alpha': 0.01, 'tfidf__use_idf': True, 'vect__ngram_range': (1, 1)}\n"
     ]
    }
   ],
   "source": [
    "from sklearn.model_selection import GridSearchCV\n",
    "parameters_svm = {'vect__ngram_range': [(1, 1), (1, 2)],\n",
    "'tfidf__use_idf': (True, False),\n",
    "'clf-svm__alpha': (1e-2, 1e-3),\n",
    "}\n",
    "gs_clf_svm = GridSearchCV(text_clf_svm, parameters_svm, n_jobs=-1)\n",
    "gs_clf_svm = gs_clf_svm.fit(X_train['text'].values.astype(str), y_train['category'].values.astype(str))\n",
    "print(gs_clf_svm.best_score_)\n",
    "print(gs_clf_svm.best_params_)"
   ]
  },
  {
   "cell_type": "code",
   "execution_count": null,
   "metadata": {},
   "outputs": [],
   "source": []
  },
  {
   "cell_type": "code",
   "execution_count": 22,
   "metadata": {},
   "outputs": [
    {
     "data": {
      "text/html": [
       "<div>\n",
       "<style scoped>\n",
       "    .dataframe tbody tr th:only-of-type {\n",
       "        vertical-align: middle;\n",
       "    }\n",
       "\n",
       "    .dataframe tbody tr th {\n",
       "        vertical-align: top;\n",
       "    }\n",
       "\n",
       "    .dataframe thead th {\n",
       "        text-align: right;\n",
       "    }\n",
       "</style>\n",
       "<table border=\"1\" class=\"dataframe\">\n",
       "  <thead>\n",
       "    <tr style=\"text-align: right;\">\n",
       "      <th></th>\n",
       "      <th>category</th>\n",
       "      <th>predicted_category</th>\n",
       "      <th>text</th>\n",
       "    </tr>\n",
       "  </thead>\n",
       "  <tbody>\n",
       "    <tr>\n",
       "      <td>995</td>\n",
       "      <td>GENERAL</td>\n",
       "      <td>name</td>\n",
       "      <td>japan expanding state emergency entire nation ...</td>\n",
       "    </tr>\n",
       "    <tr>\n",
       "      <td>996</td>\n",
       "      <td>GENERAL</td>\n",
       "      <td>name</td>\n",
       "      <td>south african president extends lockdown two w...</td>\n",
       "    </tr>\n",
       "    <tr>\n",
       "      <td>997</td>\n",
       "      <td>GENERAL</td>\n",
       "      <td>name</td>\n",
       "      <td>uk report largest oneday death toll coronaviru...</td>\n",
       "    </tr>\n",
       "    <tr>\n",
       "      <td>998</td>\n",
       "      <td>POLITICS</td>\n",
       "      <td>name</td>\n",
       "      <td>hill campaign report biden seek counter trump ...</td>\n",
       "    </tr>\n",
       "    <tr>\n",
       "      <td>999</td>\n",
       "      <td>GENERAL</td>\n",
       "      <td>name</td>\n",
       "      <td>nigeria issue warning drug touted trump overdo...</td>\n",
       "    </tr>\n",
       "  </tbody>\n",
       "</table>\n",
       "</div>"
      ],
      "text/plain": [
       "     category predicted_category  \\\n",
       "995   GENERAL               name   \n",
       "996   GENERAL               name   \n",
       "997   GENERAL               name   \n",
       "998  POLITICS               name   \n",
       "999   GENERAL               name   \n",
       "\n",
       "                                                  text  \n",
       "995  japan expanding state emergency entire nation ...  \n",
       "996  south african president extends lockdown two w...  \n",
       "997  uk report largest oneday death toll coronaviru...  \n",
       "998  hill campaign report biden seek counter trump ...  \n",
       "999  nigeria issue warning drug touted trump overdo...  "
      ]
     },
     "execution_count": 22,
     "metadata": {},
     "output_type": "execute_result"
    }
   ],
   "source": [
    "df2 = pd.read_csv('forEvaluating.csv',index_col=0)\n",
    "df2.tail()"
   ]
  },
  {
   "cell_type": "code",
   "execution_count": 23,
   "metadata": {},
   "outputs": [],
   "source": [
    "y = pd.DataFrame(df2['category'])\n",
    "X = pd.DataFrame(df2['text'])"
   ]
  },
  {
   "cell_type": "code",
   "execution_count": 33,
   "metadata": {},
   "outputs": [
    {
     "data": {
      "text/plain": [
       "0.368"
      ]
     },
     "execution_count": 33,
     "metadata": {},
     "output_type": "execute_result"
    }
   ],
   "source": [
    "text_clf_svm.fit(X_train['text'].values.astype(str), y_train['category'].values.astype(str))\n",
    "predicted = text_clf_svm.predict((X['text'].values.astype(str)))\n",
    "np.mean(predicted == y['category'].values.astype(str))"
   ]
  },
  {
   "cell_type": "code",
   "execution_count": null,
   "metadata": {},
   "outputs": [],
   "source": []
  },
  {
   "cell_type": "code",
   "execution_count": 35,
   "metadata": {},
   "outputs": [],
   "source": [
    "for i, row in df2.iterrows():\n",
    "    df2.at[i,'category'] = predicted[i]"
   ]
  },
  {
   "cell_type": "code",
   "execution_count": 37,
   "metadata": {},
   "outputs": [
    {
     "data": {
      "text/html": [
       "<div>\n",
       "<style scoped>\n",
       "    .dataframe tbody tr th:only-of-type {\n",
       "        vertical-align: middle;\n",
       "    }\n",
       "\n",
       "    .dataframe tbody tr th {\n",
       "        vertical-align: top;\n",
       "    }\n",
       "\n",
       "    .dataframe thead th {\n",
       "        text-align: right;\n",
       "    }\n",
       "</style>\n",
       "<table border=\"1\" class=\"dataframe\">\n",
       "  <thead>\n",
       "    <tr style=\"text-align: right;\">\n",
       "      <th></th>\n",
       "      <th>text</th>\n",
       "      <th>category</th>\n",
       "    </tr>\n",
       "  </thead>\n",
       "  <tbody>\n",
       "    <tr>\n",
       "      <td>11666</td>\n",
       "      <td>hong kong highly resilient fight save economy ...</td>\n",
       "      <td>general</td>\n",
       "    </tr>\n",
       "    <tr>\n",
       "      <td>11667</td>\n",
       "      <td>unreasonable china economy shrink 10 first qua...</td>\n",
       "      <td>finance</td>\n",
       "    </tr>\n",
       "    <tr>\n",
       "      <td>11668</td>\n",
       "      <td>u company still betting chinese consumer despi...</td>\n",
       "      <td>tech</td>\n",
       "    </tr>\n",
       "    <tr>\n",
       "      <td>11669</td>\n",
       "      <td>coronavirus live update global case 856900 dea...</td>\n",
       "      <td>general</td>\n",
       "    </tr>\n",
       "    <tr>\n",
       "      <td>11670</td>\n",
       "      <td>u clinical trial hydroxychloroquine hit warp s...</td>\n",
       "      <td>science</td>\n",
       "    </tr>\n",
       "  </tbody>\n",
       "</table>\n",
       "</div>"
      ],
      "text/plain": [
       "                                                    text category\n",
       "11666  hong kong highly resilient fight save economy ...  general\n",
       "11667  unreasonable china economy shrink 10 first qua...  finance\n",
       "11668  u company still betting chinese consumer despi...     tech\n",
       "11669  coronavirus live update global case 856900 dea...  general\n",
       "11670  u clinical trial hydroxychloroquine hit warp s...  science"
      ]
     },
     "execution_count": 37,
     "metadata": {},
     "output_type": "execute_result"
    }
   ],
   "source": [
    "df2.tail()"
   ]
  },
  {
   "cell_type": "code",
   "execution_count": 111,
   "metadata": {},
   "outputs": [
    {
     "data": {
      "text/html": [
       "<div>\n",
       "<style scoped>\n",
       "    .dataframe tbody tr th:only-of-type {\n",
       "        vertical-align: middle;\n",
       "    }\n",
       "\n",
       "    .dataframe tbody tr th {\n",
       "        vertical-align: top;\n",
       "    }\n",
       "\n",
       "    .dataframe thead th {\n",
       "        text-align: right;\n",
       "    }\n",
       "</style>\n",
       "<table border=\"1\" class=\"dataframe\">\n",
       "  <thead>\n",
       "    <tr style=\"text-align: right;\">\n",
       "      <th></th>\n",
       "      <th>source</th>\n",
       "      <th>author</th>\n",
       "      <th>title</th>\n",
       "      <th>description</th>\n",
       "      <th>url</th>\n",
       "      <th>urlToImage</th>\n",
       "      <th>publishedAt</th>\n",
       "      <th>content</th>\n",
       "      <th>category</th>\n",
       "    </tr>\n",
       "  </thead>\n",
       "  <tbody>\n",
       "    <tr>\n",
       "      <td>0</td>\n",
       "      <td>The Times of India</td>\n",
       "      <td>Sarthak Dogra</td>\n",
       "      <td>400 White Hackers Are Quietly Saving World Fro...</td>\n",
       "      <td>A group of white hackers from across the world...</td>\n",
       "      <td>https://www.indiatimes.com/technology/news/400...</td>\n",
       "      <td>https://im.indiatimes.in/content/2020/Mar/hack...</td>\n",
       "      <td>2020-03-27T10:43:30Z</td>\n",
       "      <td>With the Coronavirus outbreak skyrockets depen...</td>\n",
       "      <td>name</td>\n",
       "    </tr>\n",
       "    <tr>\n",
       "      <td>1</td>\n",
       "      <td>The Times of India</td>\n",
       "      <td>KC Archana</td>\n",
       "      <td>Good News! Bengaluru Doctor Claims To Be Close...</td>\n",
       "      <td>Click here to read about  Bengaluru based doct...</td>\n",
       "      <td>https://www.indiatimes.com/trending/human-inte...</td>\n",
       "      <td>https://im.indiatimes.in/content/2020/Mar/Beng...</td>\n",
       "      <td>2020-03-28T06:25:19Z</td>\n",
       "      <td>COVID-19, the respiratory disease caused by th...</td>\n",
       "      <td>name</td>\n",
       "    </tr>\n",
       "    <tr>\n",
       "      <td>2</td>\n",
       "      <td>The Times of India</td>\n",
       "      <td>Vatsala Devki Vats</td>\n",
       "      <td>Hrithik Roshan, Ajay Devgn Request Cured COVID...</td>\n",
       "      <td>Using the antibodies of patients who have succ...</td>\n",
       "      <td>https://www.indiatimes.com/entertainment/bolly...</td>\n",
       "      <td>https://im.indiatimes.in/content/2020/Apr/3-FB...</td>\n",
       "      <td>2020-04-20T05:00:19Z</td>\n",
       "      <td>Using the antibodies of patients who have succ...</td>\n",
       "      <td>name</td>\n",
       "    </tr>\n",
       "    <tr>\n",
       "      <td>3</td>\n",
       "      <td>The Times of India</td>\n",
       "      <td>ET CONTRIBUTORS</td>\n",
       "      <td>Large caps should be initial beneficiaries, sa...</td>\n",
       "      <td>The spread of the Covid-19 virus and the meltd...</td>\n",
       "      <td>https://economictimes.indiatimes.com/mf/analys...</td>\n",
       "      <td>https://img.etimg.com/thumb/msid-75059460,widt...</td>\n",
       "      <td>2020-04-09T05:14:48Z</td>\n",
       "      <td>By Ravi GopalakrishnanWith the onset of 2020, ...</td>\n",
       "      <td>name</td>\n",
       "    </tr>\n",
       "    <tr>\n",
       "      <td>4</td>\n",
       "      <td>The Times of India</td>\n",
       "      <td>Bhragu Haritas, ET CIO</td>\n",
       "      <td>Hackers begin exploiting COVID-19 situation at...</td>\n",
       "      <td>. As enterprises open up their networks to all...</td>\n",
       "      <td>https://cio.economictimes.indiatimes.com/news/...</td>\n",
       "      <td>https://etimg.etb2bimg.com/thumb/msid-74839021...</td>\n",
       "      <td>2020-03-27T03:12:00Z</td>\n",
       "      <td>The outbreak of COVID-19 has forced companies-...</td>\n",
       "      <td>name</td>\n",
       "    </tr>\n",
       "  </tbody>\n",
       "</table>\n",
       "</div>"
      ],
      "text/plain": [
       "               source                  author  \\\n",
       "0  The Times of India           Sarthak Dogra   \n",
       "1  The Times of India              KC Archana   \n",
       "2  The Times of India      Vatsala Devki Vats   \n",
       "3  The Times of India         ET CONTRIBUTORS   \n",
       "4  The Times of India  Bhragu Haritas, ET CIO   \n",
       "\n",
       "                                               title  \\\n",
       "0  400 White Hackers Are Quietly Saving World Fro...   \n",
       "1  Good News! Bengaluru Doctor Claims To Be Close...   \n",
       "2  Hrithik Roshan, Ajay Devgn Request Cured COVID...   \n",
       "3  Large caps should be initial beneficiaries, sa...   \n",
       "4  Hackers begin exploiting COVID-19 situation at...   \n",
       "\n",
       "                                         description  \\\n",
       "0  A group of white hackers from across the world...   \n",
       "1  Click here to read about  Bengaluru based doct...   \n",
       "2  Using the antibodies of patients who have succ...   \n",
       "3  The spread of the Covid-19 virus and the meltd...   \n",
       "4  . As enterprises open up their networks to all...   \n",
       "\n",
       "                                                 url  \\\n",
       "0  https://www.indiatimes.com/technology/news/400...   \n",
       "1  https://www.indiatimes.com/trending/human-inte...   \n",
       "2  https://www.indiatimes.com/entertainment/bolly...   \n",
       "3  https://economictimes.indiatimes.com/mf/analys...   \n",
       "4  https://cio.economictimes.indiatimes.com/news/...   \n",
       "\n",
       "                                          urlToImage           publishedAt  \\\n",
       "0  https://im.indiatimes.in/content/2020/Mar/hack...  2020-03-27T10:43:30Z   \n",
       "1  https://im.indiatimes.in/content/2020/Mar/Beng...  2020-03-28T06:25:19Z   \n",
       "2  https://im.indiatimes.in/content/2020/Apr/3-FB...  2020-04-20T05:00:19Z   \n",
       "3  https://img.etimg.com/thumb/msid-75059460,widt...  2020-04-09T05:14:48Z   \n",
       "4  https://etimg.etb2bimg.com/thumb/msid-74839021...  2020-03-27T03:12:00Z   \n",
       "\n",
       "                                             content category  \n",
       "0  With the Coronavirus outbreak skyrockets depen...     name  \n",
       "1  COVID-19, the respiratory disease caused by th...     name  \n",
       "2  Using the antibodies of patients who have succ...     name  \n",
       "3  By Ravi GopalakrishnanWith the onset of 2020, ...     name  \n",
       "4  The outbreak of COVID-19 has forced companies-...     name  "
      ]
     },
     "execution_count": 111,
     "metadata": {},
     "output_type": "execute_result"
    }
   ],
   "source": [
    "df3 = pd.read_csv('Combined.csv')\n",
    "df3['category'] = df3['Unnamed: 0']\n",
    "df3 = df3.drop(columns=['Unnamed: 0'])\n",
    "df3.head()"
   ]
  },
  {
   "cell_type": "code",
   "execution_count": 44,
   "metadata": {},
   "outputs": [],
   "source": [
    "for i, row in df2.iterrows():\n",
    "    df3.at[i,'category'] = predicted[i]"
   ]
  },
  {
   "cell_type": "code",
   "execution_count": 45,
   "metadata": {},
   "outputs": [
    {
     "data": {
      "text/html": [
       "<div>\n",
       "<style scoped>\n",
       "    .dataframe tbody tr th:only-of-type {\n",
       "        vertical-align: middle;\n",
       "    }\n",
       "\n",
       "    .dataframe tbody tr th {\n",
       "        vertical-align: top;\n",
       "    }\n",
       "\n",
       "    .dataframe thead th {\n",
       "        text-align: right;\n",
       "    }\n",
       "</style>\n",
       "<table border=\"1\" class=\"dataframe\">\n",
       "  <thead>\n",
       "    <tr style=\"text-align: right;\">\n",
       "      <th></th>\n",
       "      <th>source</th>\n",
       "      <th>author</th>\n",
       "      <th>title</th>\n",
       "      <th>description</th>\n",
       "      <th>url</th>\n",
       "      <th>urlToImage</th>\n",
       "      <th>publishedAt</th>\n",
       "      <th>content</th>\n",
       "      <th>category</th>\n",
       "    </tr>\n",
       "  </thead>\n",
       "  <tbody>\n",
       "    <tr>\n",
       "      <td>11666</td>\n",
       "      <td>CNBC</td>\n",
       "      <td>Weizhen Tan</td>\n",
       "      <td>Hong Kong is 'highly resilient' as it fights t...</td>\n",
       "      <td>Hong Kong is fighting a \"twin battle\" of the c...</td>\n",
       "      <td>https://www.cnbc.com/2020/04/14/coronavirus-ho...</td>\n",
       "      <td>https://image.cnbcfm.com/api/v1/image/10647610...</td>\n",
       "      <td>2020-04-14T06:39:13Z</td>\n",
       "      <td>Hong Kong's popular nightlife district, Lan Kw...</td>\n",
       "      <td>general</td>\n",
       "    </tr>\n",
       "    <tr>\n",
       "      <td>11667</td>\n",
       "      <td>CNBC</td>\n",
       "      <td>Evelyn Cheng</td>\n",
       "      <td>'Not unreasonable' for China's economy to shri...</td>\n",
       "      <td>An early look at Chinese business conditions i...</td>\n",
       "      <td>https://www.cnbc.com/2020/03/24/china-beige-bo...</td>\n",
       "      <td>https://image.cnbcfm.com/api/v1/image/10642183...</td>\n",
       "      <td>2020-03-24T06:46:36Z</td>\n",
       "      <td>People wear masks as they cross a street durin...</td>\n",
       "      <td>finance</td>\n",
       "    </tr>\n",
       "    <tr>\n",
       "      <td>11668</td>\n",
       "      <td>CNBC</td>\n",
       "      <td>Evelyn Cheng</td>\n",
       "      <td>US companies are still betting on Chinese cons...</td>\n",
       "      <td>The American Chamber of Commerce in China's su...</td>\n",
       "      <td>https://www.cnbc.com/2020/03/26/us-companies-s...</td>\n",
       "      <td>https://image.cnbcfm.com/api/v1/image/10598809...</td>\n",
       "      <td>2020-03-25T23:28:43Z</td>\n",
       "      <td>An employee works next to shoes on display ins...</td>\n",
       "      <td>tech</td>\n",
       "    </tr>\n",
       "    <tr>\n",
       "      <td>11669</td>\n",
       "      <td>CNBC</td>\n",
       "      <td>Saheli Roy Choudhury</td>\n",
       "      <td>Coronavirus live updates: Global cases over 85...</td>\n",
       "      <td>Most of the deaths occurred in Europe: 12,428 ...</td>\n",
       "      <td>https://www.cnbc.com/2020/04/01/coronavirus-li...</td>\n",
       "      <td>https://image.cnbcfm.com/api/v1/image/10646758...</td>\n",
       "      <td>2020-04-01T00:34:44Z</td>\n",
       "      <td>This is a live blog. Please check back for upd...</td>\n",
       "      <td>general</td>\n",
       "    </tr>\n",
       "    <tr>\n",
       "      <td>11670</td>\n",
       "      <td>CNBC</td>\n",
       "      <td>Berkeley Lovelace Jr.</td>\n",
       "      <td>US clinical trials of hydroxychloroquine hit '...</td>\n",
       "      <td>Researchers at NYU Langone on March 24 launche...</td>\n",
       "      <td>https://www.cnbc.com/2020/04/15/coronavirus-us...</td>\n",
       "      <td>https://image.cnbcfm.com/api/v1/image/10648079...</td>\n",
       "      <td>2020-04-15T12:50:57Z</td>\n",
       "      <td>A bottle of Prasco Laboratories Hydroxychloroq...</td>\n",
       "      <td>science</td>\n",
       "    </tr>\n",
       "  </tbody>\n",
       "</table>\n",
       "</div>"
      ],
      "text/plain": [
       "      source                 author  \\\n",
       "11666   CNBC            Weizhen Tan   \n",
       "11667   CNBC           Evelyn Cheng   \n",
       "11668   CNBC           Evelyn Cheng   \n",
       "11669   CNBC   Saheli Roy Choudhury   \n",
       "11670   CNBC  Berkeley Lovelace Jr.   \n",
       "\n",
       "                                                   title  \\\n",
       "11666  Hong Kong is 'highly resilient' as it fights t...   \n",
       "11667  'Not unreasonable' for China's economy to shri...   \n",
       "11668  US companies are still betting on Chinese cons...   \n",
       "11669  Coronavirus live updates: Global cases over 85...   \n",
       "11670  US clinical trials of hydroxychloroquine hit '...   \n",
       "\n",
       "                                             description  \\\n",
       "11666  Hong Kong is fighting a \"twin battle\" of the c...   \n",
       "11667  An early look at Chinese business conditions i...   \n",
       "11668  The American Chamber of Commerce in China's su...   \n",
       "11669  Most of the deaths occurred in Europe: 12,428 ...   \n",
       "11670  Researchers at NYU Langone on March 24 launche...   \n",
       "\n",
       "                                                     url  \\\n",
       "11666  https://www.cnbc.com/2020/04/14/coronavirus-ho...   \n",
       "11667  https://www.cnbc.com/2020/03/24/china-beige-bo...   \n",
       "11668  https://www.cnbc.com/2020/03/26/us-companies-s...   \n",
       "11669  https://www.cnbc.com/2020/04/01/coronavirus-li...   \n",
       "11670  https://www.cnbc.com/2020/04/15/coronavirus-us...   \n",
       "\n",
       "                                              urlToImage  \\\n",
       "11666  https://image.cnbcfm.com/api/v1/image/10647610...   \n",
       "11667  https://image.cnbcfm.com/api/v1/image/10642183...   \n",
       "11668  https://image.cnbcfm.com/api/v1/image/10598809...   \n",
       "11669  https://image.cnbcfm.com/api/v1/image/10646758...   \n",
       "11670  https://image.cnbcfm.com/api/v1/image/10648079...   \n",
       "\n",
       "                publishedAt  \\\n",
       "11666  2020-04-14T06:39:13Z   \n",
       "11667  2020-03-24T06:46:36Z   \n",
       "11668  2020-03-25T23:28:43Z   \n",
       "11669  2020-04-01T00:34:44Z   \n",
       "11670  2020-04-15T12:50:57Z   \n",
       "\n",
       "                                                 content category  \n",
       "11666  Hong Kong's popular nightlife district, Lan Kw...  general  \n",
       "11667  People wear masks as they cross a street durin...  finance  \n",
       "11668  An employee works next to shoes on display ins...     tech  \n",
       "11669  This is a live blog. Please check back for upd...  general  \n",
       "11670  A bottle of Prasco Laboratories Hydroxychloroq...  science  "
      ]
     },
     "execution_count": 45,
     "metadata": {},
     "output_type": "execute_result"
    }
   ],
   "source": [
    "df3.tail()"
   ]
  },
  {
   "cell_type": "code",
   "execution_count": 46,
   "metadata": {},
   "outputs": [],
   "source": [
    "df3.to_csv(\"Combined With Category.csv\")"
   ]
  },
  {
   "cell_type": "code",
   "execution_count": 141,
   "metadata": {},
   "outputs": [
    {
     "data": {
      "text/html": [
       "<div>\n",
       "<style scoped>\n",
       "    .dataframe tbody tr th:only-of-type {\n",
       "        vertical-align: middle;\n",
       "    }\n",
       "\n",
       "    .dataframe tbody tr th {\n",
       "        vertical-align: top;\n",
       "    }\n",
       "\n",
       "    .dataframe thead th {\n",
       "        text-align: right;\n",
       "    }\n",
       "</style>\n",
       "<table border=\"1\" class=\"dataframe\">\n",
       "  <thead>\n",
       "    <tr style=\"text-align: right;\">\n",
       "      <th></th>\n",
       "      <th>category</th>\n",
       "      <th>text</th>\n",
       "      <th>predicted_category</th>\n",
       "    </tr>\n",
       "  </thead>\n",
       "  <tbody>\n",
       "    <tr>\n",
       "      <td>995</td>\n",
       "      <td>general</td>\n",
       "      <td>japan expanding state emergency entire nation ...</td>\n",
       "      <td>name</td>\n",
       "    </tr>\n",
       "    <tr>\n",
       "      <td>996</td>\n",
       "      <td>general</td>\n",
       "      <td>south african president extends lockdown two w...</td>\n",
       "      <td>name</td>\n",
       "    </tr>\n",
       "    <tr>\n",
       "      <td>997</td>\n",
       "      <td>general</td>\n",
       "      <td>uk report largest oneday death toll coronaviru...</td>\n",
       "      <td>name</td>\n",
       "    </tr>\n",
       "    <tr>\n",
       "      <td>998</td>\n",
       "      <td>general</td>\n",
       "      <td>hill campaign report biden seek counter trump ...</td>\n",
       "      <td>name</td>\n",
       "    </tr>\n",
       "    <tr>\n",
       "      <td>999</td>\n",
       "      <td>general</td>\n",
       "      <td>nigeria issue warning drug touted trump overdo...</td>\n",
       "      <td>name</td>\n",
       "    </tr>\n",
       "  </tbody>\n",
       "</table>\n",
       "</div>"
      ],
      "text/plain": [
       "    category                                               text  \\\n",
       "995  general  japan expanding state emergency entire nation ...   \n",
       "996  general  south african president extends lockdown two w...   \n",
       "997  general  uk report largest oneday death toll coronaviru...   \n",
       "998  general  hill campaign report biden seek counter trump ...   \n",
       "999  general  nigeria issue warning drug touted trump overdo...   \n",
       "\n",
       "    predicted_category  \n",
       "995               name  \n",
       "996               name  \n",
       "997               name  \n",
       "998               name  \n",
       "999               name  "
      ]
     },
     "execution_count": 141,
     "metadata": {},
     "output_type": "execute_result"
    }
   ],
   "source": [
    "df4 = pd.read_csv('forEvaluating.csv',index_col=0)\n",
    "df4.tail()"
   ]
  },
  {
   "cell_type": "code",
   "execution_count": 142,
   "metadata": {},
   "outputs": [],
   "source": [
    "y = pd.DataFrame(df4['category'])\n",
    "X = pd.DataFrame(df4['text'])"
   ]
  },
  {
   "cell_type": "code",
   "execution_count": 143,
   "metadata": {},
   "outputs": [
    {
     "data": {
      "text/plain": [
       "0.201"
      ]
     },
     "execution_count": 143,
     "metadata": {},
     "output_type": "execute_result"
    }
   ],
   "source": [
    "text_clf_nn.fit(X_train['text'], y_train['topic_area'])\n",
    "predicted = text_clf_nn.predict((X['text'].values.astype(str)))\n",
    "np.mean(predicted == y['category'])"
   ]
  },
  {
   "cell_type": "code",
   "execution_count": 85,
   "metadata": {},
   "outputs": [],
   "source": [
    "for i, row in df4.iterrows():\n",
    "    df4.at[i,'predicted_category'] = predicted[i]"
   ]
  },
  {
   "cell_type": "code",
   "execution_count": 90,
   "metadata": {},
   "outputs": [
    {
     "data": {
      "text/html": [
       "<div>\n",
       "<style scoped>\n",
       "    .dataframe tbody tr th:only-of-type {\n",
       "        vertical-align: middle;\n",
       "    }\n",
       "\n",
       "    .dataframe tbody tr th {\n",
       "        vertical-align: top;\n",
       "    }\n",
       "\n",
       "    .dataframe thead th {\n",
       "        text-align: right;\n",
       "    }\n",
       "</style>\n",
       "<table border=\"1\" class=\"dataframe\">\n",
       "  <thead>\n",
       "    <tr style=\"text-align: right;\">\n",
       "      <th></th>\n",
       "      <th>category</th>\n",
       "      <th>text</th>\n",
       "      <th>predicted_category</th>\n",
       "    </tr>\n",
       "  </thead>\n",
       "  <tbody>\n",
       "    <tr>\n",
       "      <td>995</td>\n",
       "      <td>general</td>\n",
       "      <td>japan expanding state emergency entire nation ...</td>\n",
       "      <td>business</td>\n",
       "    </tr>\n",
       "    <tr>\n",
       "      <td>996</td>\n",
       "      <td>general</td>\n",
       "      <td>south african president extends lockdown two w...</td>\n",
       "      <td>business</td>\n",
       "    </tr>\n",
       "    <tr>\n",
       "      <td>997</td>\n",
       "      <td>general</td>\n",
       "      <td>uk report largest oneday death toll coronaviru...</td>\n",
       "      <td>general</td>\n",
       "    </tr>\n",
       "    <tr>\n",
       "      <td>998</td>\n",
       "      <td>general</td>\n",
       "      <td>hill campaign report biden seek counter trump ...</td>\n",
       "      <td>general</td>\n",
       "    </tr>\n",
       "    <tr>\n",
       "      <td>999</td>\n",
       "      <td>general</td>\n",
       "      <td>nigeria issue warning drug touted trump overdo...</td>\n",
       "      <td>tech</td>\n",
       "    </tr>\n",
       "  </tbody>\n",
       "</table>\n",
       "</div>"
      ],
      "text/plain": [
       "    category                                               text  \\\n",
       "995  general  japan expanding state emergency entire nation ...   \n",
       "996  general  south african president extends lockdown two w...   \n",
       "997  general  uk report largest oneday death toll coronaviru...   \n",
       "998  general  hill campaign report biden seek counter trump ...   \n",
       "999  general  nigeria issue warning drug touted trump overdo...   \n",
       "\n",
       "    predicted_category  \n",
       "995           business  \n",
       "996           business  \n",
       "997            general  \n",
       "998            general  \n",
       "999               tech  "
      ]
     },
     "execution_count": 90,
     "metadata": {},
     "output_type": "execute_result"
    }
   ],
   "source": [
    "df4.tail()"
   ]
  },
  {
   "cell_type": "code",
   "execution_count": 87,
   "metadata": {},
   "outputs": [
    {
     "ename": "PermissionError",
     "evalue": "[Errno 13] Permission denied: 'labelled_and_predicted.csv'",
     "output_type": "error",
     "traceback": [
      "\u001b[1;31m---------------------------------------------------------------------------\u001b[0m",
      "\u001b[1;31mPermissionError\u001b[0m                           Traceback (most recent call last)",
      "\u001b[1;32m<ipython-input-87-6304979d40a6>\u001b[0m in \u001b[0;36m<module>\u001b[1;34m\u001b[0m\n\u001b[1;32m----> 1\u001b[1;33m \u001b[0mdf4\u001b[0m\u001b[1;33m.\u001b[0m\u001b[0mto_csv\u001b[0m\u001b[1;33m(\u001b[0m\u001b[1;34m\"labelled_and_predicted.csv\"\u001b[0m\u001b[1;33m)\u001b[0m\u001b[1;33m\u001b[0m\u001b[1;33m\u001b[0m\u001b[0m\n\u001b[0m",
      "\u001b[1;32m~\\Anaconda3\\lib\\site-packages\\pandas\\core\\generic.py\u001b[0m in \u001b[0;36mto_csv\u001b[1;34m(self, path_or_buf, sep, na_rep, float_format, columns, header, index, index_label, mode, encoding, compression, quoting, quotechar, line_terminator, chunksize, date_format, doublequote, escapechar, decimal)\u001b[0m\n\u001b[0;32m   3226\u001b[0m             \u001b[0mdecimal\u001b[0m\u001b[1;33m=\u001b[0m\u001b[0mdecimal\u001b[0m\u001b[1;33m,\u001b[0m\u001b[1;33m\u001b[0m\u001b[1;33m\u001b[0m\u001b[0m\n\u001b[0;32m   3227\u001b[0m         )\n\u001b[1;32m-> 3228\u001b[1;33m         \u001b[0mformatter\u001b[0m\u001b[1;33m.\u001b[0m\u001b[0msave\u001b[0m\u001b[1;33m(\u001b[0m\u001b[1;33m)\u001b[0m\u001b[1;33m\u001b[0m\u001b[1;33m\u001b[0m\u001b[0m\n\u001b[0m\u001b[0;32m   3229\u001b[0m \u001b[1;33m\u001b[0m\u001b[0m\n\u001b[0;32m   3230\u001b[0m         \u001b[1;32mif\u001b[0m \u001b[0mpath_or_buf\u001b[0m \u001b[1;32mis\u001b[0m \u001b[1;32mNone\u001b[0m\u001b[1;33m:\u001b[0m\u001b[1;33m\u001b[0m\u001b[1;33m\u001b[0m\u001b[0m\n",
      "\u001b[1;32m~\\Anaconda3\\lib\\site-packages\\pandas\\io\\formats\\csvs.py\u001b[0m in \u001b[0;36msave\u001b[1;34m(self)\u001b[0m\n\u001b[0;32m    181\u001b[0m                 \u001b[0mself\u001b[0m\u001b[1;33m.\u001b[0m\u001b[0mmode\u001b[0m\u001b[1;33m,\u001b[0m\u001b[1;33m\u001b[0m\u001b[1;33m\u001b[0m\u001b[0m\n\u001b[0;32m    182\u001b[0m                 \u001b[0mencoding\u001b[0m\u001b[1;33m=\u001b[0m\u001b[0mself\u001b[0m\u001b[1;33m.\u001b[0m\u001b[0mencoding\u001b[0m\u001b[1;33m,\u001b[0m\u001b[1;33m\u001b[0m\u001b[1;33m\u001b[0m\u001b[0m\n\u001b[1;32m--> 183\u001b[1;33m                 \u001b[0mcompression\u001b[0m\u001b[1;33m=\u001b[0m\u001b[0mself\u001b[0m\u001b[1;33m.\u001b[0m\u001b[0mcompression\u001b[0m\u001b[1;33m,\u001b[0m\u001b[1;33m\u001b[0m\u001b[1;33m\u001b[0m\u001b[0m\n\u001b[0m\u001b[0;32m    184\u001b[0m             )\n\u001b[0;32m    185\u001b[0m             \u001b[0mclose\u001b[0m \u001b[1;33m=\u001b[0m \u001b[1;32mTrue\u001b[0m\u001b[1;33m\u001b[0m\u001b[1;33m\u001b[0m\u001b[0m\n",
      "\u001b[1;32m~\\Anaconda3\\lib\\site-packages\\pandas\\io\\common.py\u001b[0m in \u001b[0;36m_get_handle\u001b[1;34m(path_or_buf, mode, encoding, compression, memory_map, is_text)\u001b[0m\n\u001b[0;32m    397\u001b[0m         \u001b[1;32mif\u001b[0m \u001b[0mencoding\u001b[0m\u001b[1;33m:\u001b[0m\u001b[1;33m\u001b[0m\u001b[1;33m\u001b[0m\u001b[0m\n\u001b[0;32m    398\u001b[0m             \u001b[1;31m# Encoding\u001b[0m\u001b[1;33m\u001b[0m\u001b[1;33m\u001b[0m\u001b[1;33m\u001b[0m\u001b[0m\n\u001b[1;32m--> 399\u001b[1;33m             \u001b[0mf\u001b[0m \u001b[1;33m=\u001b[0m \u001b[0mopen\u001b[0m\u001b[1;33m(\u001b[0m\u001b[0mpath_or_buf\u001b[0m\u001b[1;33m,\u001b[0m \u001b[0mmode\u001b[0m\u001b[1;33m,\u001b[0m \u001b[0mencoding\u001b[0m\u001b[1;33m=\u001b[0m\u001b[0mencoding\u001b[0m\u001b[1;33m,\u001b[0m \u001b[0mnewline\u001b[0m\u001b[1;33m=\u001b[0m\u001b[1;34m\"\"\u001b[0m\u001b[1;33m)\u001b[0m\u001b[1;33m\u001b[0m\u001b[1;33m\u001b[0m\u001b[0m\n\u001b[0m\u001b[0;32m    400\u001b[0m         \u001b[1;32melif\u001b[0m \u001b[0mis_text\u001b[0m\u001b[1;33m:\u001b[0m\u001b[1;33m\u001b[0m\u001b[1;33m\u001b[0m\u001b[0m\n\u001b[0;32m    401\u001b[0m             \u001b[1;31m# No explicit encoding\u001b[0m\u001b[1;33m\u001b[0m\u001b[1;33m\u001b[0m\u001b[1;33m\u001b[0m\u001b[0m\n",
      "\u001b[1;31mPermissionError\u001b[0m: [Errno 13] Permission denied: 'labelled_and_predicted.csv'"
     ]
    }
   ],
   "source": [
    "df4.to_csv(\"labelled_and_predicted.csv\")"
   ]
  },
  {
   "cell_type": "code",
   "execution_count": 128,
   "metadata": {},
   "outputs": [
    {
     "data": {
      "text/html": [
       "<div>\n",
       "<style scoped>\n",
       "    .dataframe tbody tr th:only-of-type {\n",
       "        vertical-align: middle;\n",
       "    }\n",
       "\n",
       "    .dataframe tbody tr th {\n",
       "        vertical-align: top;\n",
       "    }\n",
       "\n",
       "    .dataframe thead th {\n",
       "        text-align: right;\n",
       "    }\n",
       "</style>\n",
       "<table border=\"1\" class=\"dataframe\">\n",
       "  <thead>\n",
       "    <tr style=\"text-align: right;\">\n",
       "      <th></th>\n",
       "      <th>source</th>\n",
       "      <th>author</th>\n",
       "      <th>title</th>\n",
       "      <th>description</th>\n",
       "      <th>url</th>\n",
       "      <th>urlToImage</th>\n",
       "      <th>publishedAt</th>\n",
       "      <th>content</th>\n",
       "      <th>category</th>\n",
       "      <th>predicted_category</th>\n",
       "    </tr>\n",
       "  </thead>\n",
       "  <tbody>\n",
       "    <tr>\n",
       "      <td>995</td>\n",
       "      <td>The Hill</td>\n",
       "      <td>John Bowden</td>\n",
       "      <td>Japan expanding state of emergency to entire n...</td>\n",
       "      <td>Japanese Prime Minister Shinzo Abe officially ...</td>\n",
       "      <td>https://thehill.com/policy/international/49309...</td>\n",
       "      <td>https://thehill.com/sites/default/files/blogs/...</td>\n",
       "      <td>2020-04-16T13:02:27Z</td>\n",
       "      <td>Japanese Prime Minister Shinzo Abe officially ...</td>\n",
       "      <td>general</td>\n",
       "      <td>general</td>\n",
       "    </tr>\n",
       "    <tr>\n",
       "      <td>996</td>\n",
       "      <td>The Hill</td>\n",
       "      <td>Marty Johnson</td>\n",
       "      <td>South African president extends lockdown two w...</td>\n",
       "      <td>South African President Cyril Ramaphosa on Fri...</td>\n",
       "      <td>https://thehill.com/policy/international/afric...</td>\n",
       "      <td>https://thehill.com/sites/default/files/ramaph...</td>\n",
       "      <td>2020-04-10T14:29:54Z</td>\n",
       "      <td>South African President Cyril Ramaphosa on Fri...</td>\n",
       "      <td>general</td>\n",
       "      <td>general</td>\n",
       "    </tr>\n",
       "    <tr>\n",
       "      <td>997</td>\n",
       "      <td>The Hill</td>\n",
       "      <td>Zack Budryk</td>\n",
       "      <td>UK reports largest one-day death toll from cor...</td>\n",
       "      <td>The U.K. saw its largest single-day death toll...</td>\n",
       "      <td>https://thehill.com/blogs/blog-briefing-room/n...</td>\n",
       "      <td>https://thehill.com/sites/default/files/uk_cor...</td>\n",
       "      <td>2020-04-01T14:25:54Z</td>\n",
       "      <td>The U.K. saw its largest single-day death toll...</td>\n",
       "      <td>general</td>\n",
       "      <td>general</td>\n",
       "    </tr>\n",
       "    <tr>\n",
       "      <td>998</td>\n",
       "      <td>The Hill</td>\n",
       "      <td>Julia Manchester,Max Greenwood and Jonathan Ea...</td>\n",
       "      <td>The Hill's Campaign Report: Biden seeks to cou...</td>\n",
       "      <td>Welcome to The Hill's Campaign Report, your da...</td>\n",
       "      <td>https://thehill.com/homenews/campaign/489104-t...</td>\n",
       "      <td>https://thehill.com/sites/default/files/bidenj...</td>\n",
       "      <td>2020-03-23T21:27:11Z</td>\n",
       "      <td>Welcome to The Hill's Campaign Report, your da...</td>\n",
       "      <td>general</td>\n",
       "      <td>general</td>\n",
       "    </tr>\n",
       "    <tr>\n",
       "      <td>999</td>\n",
       "      <td>The Hill</td>\n",
       "      <td>Zack Budryk</td>\n",
       "      <td>Nigeria issues warning for drug touted by Trum...</td>\n",
       "      <td>Nigerian health officials on Monday issued a w...</td>\n",
       "      <td>https://thehill.com/policy/healthcare/488972-n...</td>\n",
       "      <td>https://thehill.com/sites/default/files/nigeri...</td>\n",
       "      <td>2020-03-23T13:07:05Z</td>\n",
       "      <td>Nigerian health officials on Monday issued a w...</td>\n",
       "      <td>general</td>\n",
       "      <td>general</td>\n",
       "    </tr>\n",
       "  </tbody>\n",
       "</table>\n",
       "</div>"
      ],
      "text/plain": [
       "       source                                             author  \\\n",
       "995  The Hill                                        John Bowden   \n",
       "996  The Hill                                      Marty Johnson   \n",
       "997  The Hill                                        Zack Budryk   \n",
       "998  The Hill  Julia Manchester,Max Greenwood and Jonathan Ea...   \n",
       "999  The Hill                                        Zack Budryk   \n",
       "\n",
       "                                                 title  \\\n",
       "995  Japan expanding state of emergency to entire n...   \n",
       "996  South African president extends lockdown two w...   \n",
       "997  UK reports largest one-day death toll from cor...   \n",
       "998  The Hill's Campaign Report: Biden seeks to cou...   \n",
       "999  Nigeria issues warning for drug touted by Trum...   \n",
       "\n",
       "                                           description  \\\n",
       "995  Japanese Prime Minister Shinzo Abe officially ...   \n",
       "996  South African President Cyril Ramaphosa on Fri...   \n",
       "997  The U.K. saw its largest single-day death toll...   \n",
       "998  Welcome to The Hill's Campaign Report, your da...   \n",
       "999  Nigerian health officials on Monday issued a w...   \n",
       "\n",
       "                                                   url  \\\n",
       "995  https://thehill.com/policy/international/49309...   \n",
       "996  https://thehill.com/policy/international/afric...   \n",
       "997  https://thehill.com/blogs/blog-briefing-room/n...   \n",
       "998  https://thehill.com/homenews/campaign/489104-t...   \n",
       "999  https://thehill.com/policy/healthcare/488972-n...   \n",
       "\n",
       "                                            urlToImage           publishedAt  \\\n",
       "995  https://thehill.com/sites/default/files/blogs/...  2020-04-16T13:02:27Z   \n",
       "996  https://thehill.com/sites/default/files/ramaph...  2020-04-10T14:29:54Z   \n",
       "997  https://thehill.com/sites/default/files/uk_cor...  2020-04-01T14:25:54Z   \n",
       "998  https://thehill.com/sites/default/files/bidenj...  2020-03-23T21:27:11Z   \n",
       "999  https://thehill.com/sites/default/files/nigeri...  2020-03-23T13:07:05Z   \n",
       "\n",
       "                                               content category  \\\n",
       "995  Japanese Prime Minister Shinzo Abe officially ...  general   \n",
       "996  South African President Cyril Ramaphosa on Fri...  general   \n",
       "997  The U.K. saw its largest single-day death toll...  general   \n",
       "998  Welcome to The Hill's Campaign Report, your da...  general   \n",
       "999  Nigerian health officials on Monday issued a w...  general   \n",
       "\n",
       "    predicted_category  \n",
       "995            general  \n",
       "996            general  \n",
       "997            general  \n",
       "998            general  \n",
       "999            general  "
      ]
     },
     "execution_count": 128,
     "metadata": {},
     "output_type": "execute_result"
    }
   ],
   "source": [
    "df5 = pd.read_csv('Evaluation Dataset.csv')\n",
    "df5['predicted_category'] = df5['category']\n",
    "df5 = df5.drop(columns=['Unnamed: 0'])\n",
    "df5.tail()"
   ]
  },
  {
   "cell_type": "code",
   "execution_count": 129,
   "metadata": {},
   "outputs": [],
   "source": [
    "for i, row in df5.iterrows():\n",
    "    df5.at[i,'predicted_category'] = predicted[i]"
   ]
  },
  {
   "cell_type": "code",
   "execution_count": 130,
   "metadata": {},
   "outputs": [
    {
     "data": {
      "text/plain": [
       "0.29"
      ]
     },
     "execution_count": 130,
     "metadata": {},
     "output_type": "execute_result"
    }
   ],
   "source": [
    "np.mean(df5['category'] == df5['predicted_category'])"
   ]
  },
  {
   "cell_type": "code",
   "execution_count": 131,
   "metadata": {},
   "outputs": [
    {
     "data": {
      "text/html": [
       "<div>\n",
       "<style scoped>\n",
       "    .dataframe tbody tr th:only-of-type {\n",
       "        vertical-align: middle;\n",
       "    }\n",
       "\n",
       "    .dataframe tbody tr th {\n",
       "        vertical-align: top;\n",
       "    }\n",
       "\n",
       "    .dataframe thead th {\n",
       "        text-align: right;\n",
       "    }\n",
       "</style>\n",
       "<table border=\"1\" class=\"dataframe\">\n",
       "  <thead>\n",
       "    <tr style=\"text-align: right;\">\n",
       "      <th></th>\n",
       "      <th>source</th>\n",
       "      <th>author</th>\n",
       "      <th>title</th>\n",
       "      <th>description</th>\n",
       "      <th>url</th>\n",
       "      <th>urlToImage</th>\n",
       "      <th>publishedAt</th>\n",
       "      <th>content</th>\n",
       "      <th>category</th>\n",
       "      <th>predicted_category</th>\n",
       "    </tr>\n",
       "  </thead>\n",
       "  <tbody>\n",
       "    <tr>\n",
       "      <td>995</td>\n",
       "      <td>The Hill</td>\n",
       "      <td>John Bowden</td>\n",
       "      <td>Japan expanding state of emergency to entire n...</td>\n",
       "      <td>Japanese Prime Minister Shinzo Abe officially ...</td>\n",
       "      <td>https://thehill.com/policy/international/49309...</td>\n",
       "      <td>https://thehill.com/sites/default/files/blogs/...</td>\n",
       "      <td>2020-04-16T13:02:27Z</td>\n",
       "      <td>Japanese Prime Minister Shinzo Abe officially ...</td>\n",
       "      <td>general</td>\n",
       "      <td>business</td>\n",
       "    </tr>\n",
       "    <tr>\n",
       "      <td>996</td>\n",
       "      <td>The Hill</td>\n",
       "      <td>Marty Johnson</td>\n",
       "      <td>South African president extends lockdown two w...</td>\n",
       "      <td>South African President Cyril Ramaphosa on Fri...</td>\n",
       "      <td>https://thehill.com/policy/international/afric...</td>\n",
       "      <td>https://thehill.com/sites/default/files/ramaph...</td>\n",
       "      <td>2020-04-10T14:29:54Z</td>\n",
       "      <td>South African President Cyril Ramaphosa on Fri...</td>\n",
       "      <td>general</td>\n",
       "      <td>business</td>\n",
       "    </tr>\n",
       "    <tr>\n",
       "      <td>997</td>\n",
       "      <td>The Hill</td>\n",
       "      <td>Zack Budryk</td>\n",
       "      <td>UK reports largest one-day death toll from cor...</td>\n",
       "      <td>The U.K. saw its largest single-day death toll...</td>\n",
       "      <td>https://thehill.com/blogs/blog-briefing-room/n...</td>\n",
       "      <td>https://thehill.com/sites/default/files/uk_cor...</td>\n",
       "      <td>2020-04-01T14:25:54Z</td>\n",
       "      <td>The U.K. saw its largest single-day death toll...</td>\n",
       "      <td>general</td>\n",
       "      <td>general</td>\n",
       "    </tr>\n",
       "    <tr>\n",
       "      <td>998</td>\n",
       "      <td>The Hill</td>\n",
       "      <td>Julia Manchester,Max Greenwood and Jonathan Ea...</td>\n",
       "      <td>The Hill's Campaign Report: Biden seeks to cou...</td>\n",
       "      <td>Welcome to The Hill's Campaign Report, your da...</td>\n",
       "      <td>https://thehill.com/homenews/campaign/489104-t...</td>\n",
       "      <td>https://thehill.com/sites/default/files/bidenj...</td>\n",
       "      <td>2020-03-23T21:27:11Z</td>\n",
       "      <td>Welcome to The Hill's Campaign Report, your da...</td>\n",
       "      <td>general</td>\n",
       "      <td>general</td>\n",
       "    </tr>\n",
       "    <tr>\n",
       "      <td>999</td>\n",
       "      <td>The Hill</td>\n",
       "      <td>Zack Budryk</td>\n",
       "      <td>Nigeria issues warning for drug touted by Trum...</td>\n",
       "      <td>Nigerian health officials on Monday issued a w...</td>\n",
       "      <td>https://thehill.com/policy/healthcare/488972-n...</td>\n",
       "      <td>https://thehill.com/sites/default/files/nigeri...</td>\n",
       "      <td>2020-03-23T13:07:05Z</td>\n",
       "      <td>Nigerian health officials on Monday issued a w...</td>\n",
       "      <td>general</td>\n",
       "      <td>tech</td>\n",
       "    </tr>\n",
       "  </tbody>\n",
       "</table>\n",
       "</div>"
      ],
      "text/plain": [
       "       source                                             author  \\\n",
       "995  The Hill                                        John Bowden   \n",
       "996  The Hill                                      Marty Johnson   \n",
       "997  The Hill                                        Zack Budryk   \n",
       "998  The Hill  Julia Manchester,Max Greenwood and Jonathan Ea...   \n",
       "999  The Hill                                        Zack Budryk   \n",
       "\n",
       "                                                 title  \\\n",
       "995  Japan expanding state of emergency to entire n...   \n",
       "996  South African president extends lockdown two w...   \n",
       "997  UK reports largest one-day death toll from cor...   \n",
       "998  The Hill's Campaign Report: Biden seeks to cou...   \n",
       "999  Nigeria issues warning for drug touted by Trum...   \n",
       "\n",
       "                                           description  \\\n",
       "995  Japanese Prime Minister Shinzo Abe officially ...   \n",
       "996  South African President Cyril Ramaphosa on Fri...   \n",
       "997  The U.K. saw its largest single-day death toll...   \n",
       "998  Welcome to The Hill's Campaign Report, your da...   \n",
       "999  Nigerian health officials on Monday issued a w...   \n",
       "\n",
       "                                                   url  \\\n",
       "995  https://thehill.com/policy/international/49309...   \n",
       "996  https://thehill.com/policy/international/afric...   \n",
       "997  https://thehill.com/blogs/blog-briefing-room/n...   \n",
       "998  https://thehill.com/homenews/campaign/489104-t...   \n",
       "999  https://thehill.com/policy/healthcare/488972-n...   \n",
       "\n",
       "                                            urlToImage           publishedAt  \\\n",
       "995  https://thehill.com/sites/default/files/blogs/...  2020-04-16T13:02:27Z   \n",
       "996  https://thehill.com/sites/default/files/ramaph...  2020-04-10T14:29:54Z   \n",
       "997  https://thehill.com/sites/default/files/uk_cor...  2020-04-01T14:25:54Z   \n",
       "998  https://thehill.com/sites/default/files/bidenj...  2020-03-23T21:27:11Z   \n",
       "999  https://thehill.com/sites/default/files/nigeri...  2020-03-23T13:07:05Z   \n",
       "\n",
       "                                               content category  \\\n",
       "995  Japanese Prime Minister Shinzo Abe officially ...  general   \n",
       "996  South African President Cyril Ramaphosa on Fri...  general   \n",
       "997  The U.K. saw its largest single-day death toll...  general   \n",
       "998  Welcome to The Hill's Campaign Report, your da...  general   \n",
       "999  Nigerian health officials on Monday issued a w...  general   \n",
       "\n",
       "    predicted_category  \n",
       "995           business  \n",
       "996           business  \n",
       "997            general  \n",
       "998            general  \n",
       "999               tech  "
      ]
     },
     "execution_count": 131,
     "metadata": {},
     "output_type": "execute_result"
    }
   ],
   "source": [
    "df5.tail()"
   ]
  },
  {
   "cell_type": "code",
   "execution_count": 107,
   "metadata": {},
   "outputs": [],
   "source": [
    "df5.to_csv(\"labelled_and_predicted.csv\")"
   ]
  },
  {
   "cell_type": "code",
   "execution_count": null,
   "metadata": {},
   "outputs": [],
   "source": []
  }
 ],
 "metadata": {
  "kernelspec": {
   "display_name": "Python 3",
   "language": "python",
   "name": "python3"
  },
  "language_info": {
   "codemirror_mode": {
    "name": "ipython",
    "version": 3
   },
   "file_extension": ".py",
   "mimetype": "text/x-python",
   "name": "python",
   "nbconvert_exporter": "python",
   "pygments_lexer": "ipython3",
   "version": "3.7.4"
  }
 },
 "nbformat": 4,
 "nbformat_minor": 2
}
