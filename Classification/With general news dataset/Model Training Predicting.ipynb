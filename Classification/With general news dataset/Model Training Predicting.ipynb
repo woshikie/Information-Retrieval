{
 "cells": [
  {
   "cell_type": "code",
   "execution_count": 1,
   "metadata": {},
   "outputs": [],
   "source": [
    "import pandas as pd\n",
    "import numpy as np\n",
    "from datetime import datetime"
   ]
  },
  {
   "cell_type": "code",
   "execution_count": 2,
   "metadata": {
    "scrolled": true
   },
   "outputs": [
    {
     "data": {
      "text/html": [
       "<div>\n",
       "<style scoped>\n",
       "    .dataframe tbody tr th:only-of-type {\n",
       "        vertical-align: middle;\n",
       "    }\n",
       "\n",
       "    .dataframe tbody tr th {\n",
       "        vertical-align: top;\n",
       "    }\n",
       "\n",
       "    .dataframe thead th {\n",
       "        text-align: right;\n",
       "    }\n",
       "</style>\n",
       "<table border=\"1\" class=\"dataframe\">\n",
       "  <thead>\n",
       "    <tr style=\"text-align: right;\">\n",
       "      <th></th>\n",
       "      <th>category</th>\n",
       "      <th>text</th>\n",
       "    </tr>\n",
       "  </thead>\n",
       "  <tbody>\n",
       "    <tr>\n",
       "      <td>5995</td>\n",
       "      <td>ENVIRONMENT</td>\n",
       "      <td>kemosabe chatty porcupine eats banana video ke...</td>\n",
       "    </tr>\n",
       "    <tr>\n",
       "      <td>5996</td>\n",
       "      <td>ENVIRONMENT</td>\n",
       "      <td>bear camera capture life eye alaskan animal vi...</td>\n",
       "    </tr>\n",
       "    <tr>\n",
       "      <td>5997</td>\n",
       "      <td>ENVIRONMENT</td>\n",
       "      <td>first day fall autumnal equinox arrives septem...</td>\n",
       "    </tr>\n",
       "    <tr>\n",
       "      <td>5998</td>\n",
       "      <td>ENVIRONMENT</td>\n",
       "      <td>climate change could turn greenland well green...</td>\n",
       "    </tr>\n",
       "    <tr>\n",
       "      <td>5999</td>\n",
       "      <td>ENVIRONMENT</td>\n",
       "      <td>diy tshirt project idea reusing old tee networ...</td>\n",
       "    </tr>\n",
       "  </tbody>\n",
       "</table>\n",
       "</div>"
      ],
      "text/plain": [
       "         category                                               text\n",
       "5995  ENVIRONMENT  kemosabe chatty porcupine eats banana video ke...\n",
       "5996  ENVIRONMENT  bear camera capture life eye alaskan animal vi...\n",
       "5997  ENVIRONMENT  first day fall autumnal equinox arrives septem...\n",
       "5998  ENVIRONMENT  climate change could turn greenland well green...\n",
       "5999  ENVIRONMENT  diy tshirt project idea reusing old tee networ..."
      ]
     },
     "execution_count": 2,
     "metadata": {},
     "output_type": "execute_result"
    }
   ],
   "source": [
    "df = pd.read_csv('forModelTraining.csv',index_col=0)\n",
    "df.tail()"
   ]
  },
  {
   "cell_type": "code",
   "execution_count": 3,
   "metadata": {},
   "outputs": [],
   "source": [
    "y_train = pd.DataFrame(df['category'])\n",
    "X_train = pd.DataFrame(df['text'])"
   ]
  },
  {
   "cell_type": "code",
   "execution_count": 4,
   "metadata": {},
   "outputs": [],
   "source": [
    "from sklearn.feature_extraction.text import CountVectorizer\n",
    "from sklearn.feature_extraction.text import TfidfTransformer\n",
    "from sklearn.naive_bayes import MultinomialNB\n",
    "from sklearn.pipeline import Pipeline\n",
    "text_clf = Pipeline([\n",
    "('vect', CountVectorizer()),\n",
    "('tfidf', TfidfTransformer()),\n",
    "('clf', MultinomialNB()),\n",
    "])"
   ]
  },
  {
   "cell_type": "code",
   "execution_count": 5,
   "metadata": {},
   "outputs": [],
   "source": [
    "from sklearn.linear_model import SGDClassifier\n",
    "text_clf_svm = Pipeline([\n",
    "('vect', CountVectorizer()),\n",
    "('tfidf', TfidfTransformer()),\n",
    "('clf-svm', SGDClassifier(loss='hinge', penalty='l2',\n",
    "alpha=1e-3, random_state=42,\n",
    "max_iter=5, tol=None)),\n",
    "])"
   ]
  },
  {
   "cell_type": "code",
   "execution_count": 6,
   "metadata": {},
   "outputs": [],
   "source": [
    "from sklearn.neural_network import MLPClassifier\n",
    "\n",
    "text_clf_nn = Pipeline([\n",
    "('vect', CountVectorizer()),\n",
    "('tfidf', TfidfTransformer()),\n",
    "('clf-nn', MLPClassifier(solver='lbfgs', random_state=0)),\n",
    "])"
   ]
  },
  {
   "cell_type": "code",
   "execution_count": null,
   "metadata": {},
   "outputs": [],
   "source": []
  },
  {
   "cell_type": "code",
   "execution_count": null,
   "metadata": {},
   "outputs": [],
   "source": [
    "from sklearn.model_selection import GridSearchCV\n",
    "parameters = {\n",
    "'vect__ngram_range': [(1, 1), (1, 2)],\n",
    "'tfidf__use_idf': (True, False),\n",
    "'clf__alpha': (1e-2, 1e-3),\n",
    "}"
   ]
  },
  {
   "cell_type": "code",
   "execution_count": null,
   "metadata": {},
   "outputs": [],
   "source": [
    "gs_clf = GridSearchCV(text_clf, parameters, n_jobs=-1)\n",
    "gs_clf = gs_clf.fit(X_train['text'].values.astype(str), y_train['category'].values.astype(str))"
   ]
  },
  {
   "cell_type": "code",
   "execution_count": null,
   "metadata": {},
   "outputs": [],
   "source": [
    "print(gs_clf.best_score_)\n",
    "print(gs_clf.best_params_)"
   ]
  },
  {
   "cell_type": "code",
   "execution_count": null,
   "metadata": {},
   "outputs": [],
   "source": [
    "from sklearn.model_selection import GridSearchCV\n",
    "parameters_svm = {'vect__ngram_range': [(1, 1), (1, 2)],\n",
    "'tfidf__use_idf': (True, False),\n",
    "'clf-svm__alpha': (1e-2, 1e-3),\n",
    "}\n",
    "gs_clf_svm = GridSearchCV(text_clf_svm, parameters_svm, n_jobs=-1)\n",
    "gs_clf_svm = gs_clf_svm.fit(X_train['text'].values.astype(str), y_train['category'].values.astype(str))\n",
    "print(gs_clf_svm.best_score_)\n",
    "print(gs_clf_svm.best_params_)"
   ]
  },
  {
   "cell_type": "code",
   "execution_count": null,
   "metadata": {},
   "outputs": [],
   "source": []
  },
  {
   "cell_type": "code",
   "execution_count": 7,
   "metadata": {},
   "outputs": [
    {
     "data": {
      "text/html": [
       "<div>\n",
       "<style scoped>\n",
       "    .dataframe tbody tr th:only-of-type {\n",
       "        vertical-align: middle;\n",
       "    }\n",
       "\n",
       "    .dataframe tbody tr th {\n",
       "        vertical-align: top;\n",
       "    }\n",
       "\n",
       "    .dataframe thead th {\n",
       "        text-align: right;\n",
       "    }\n",
       "</style>\n",
       "<table border=\"1\" class=\"dataframe\">\n",
       "  <thead>\n",
       "    <tr style=\"text-align: right;\">\n",
       "      <th></th>\n",
       "      <th>category</th>\n",
       "      <th>predicted_category</th>\n",
       "      <th>text</th>\n",
       "    </tr>\n",
       "  </thead>\n",
       "  <tbody>\n",
       "    <tr>\n",
       "      <td>995</td>\n",
       "      <td>GENERAL</td>\n",
       "      <td>995</td>\n",
       "      <td>japan expanding state emergency entire nation ...</td>\n",
       "    </tr>\n",
       "    <tr>\n",
       "      <td>996</td>\n",
       "      <td>GENERAL</td>\n",
       "      <td>996</td>\n",
       "      <td>south african president extends lockdown two w...</td>\n",
       "    </tr>\n",
       "    <tr>\n",
       "      <td>997</td>\n",
       "      <td>GENERAL</td>\n",
       "      <td>997</td>\n",
       "      <td>uk report largest oneday death toll coronaviru...</td>\n",
       "    </tr>\n",
       "    <tr>\n",
       "      <td>998</td>\n",
       "      <td>POLITICS</td>\n",
       "      <td>998</td>\n",
       "      <td>hill campaign report biden seek counter trump ...</td>\n",
       "    </tr>\n",
       "    <tr>\n",
       "      <td>999</td>\n",
       "      <td>GENERAL</td>\n",
       "      <td>999</td>\n",
       "      <td>nigeria issue warning drug touted trump overdo...</td>\n",
       "    </tr>\n",
       "  </tbody>\n",
       "</table>\n",
       "</div>"
      ],
      "text/plain": [
       "     category  predicted_category  \\\n",
       "995   GENERAL                 995   \n",
       "996   GENERAL                 996   \n",
       "997   GENERAL                 997   \n",
       "998  POLITICS                 998   \n",
       "999   GENERAL                 999   \n",
       "\n",
       "                                                  text  \n",
       "995  japan expanding state emergency entire nation ...  \n",
       "996  south african president extends lockdown two w...  \n",
       "997  uk report largest oneday death toll coronaviru...  \n",
       "998  hill campaign report biden seek counter trump ...  \n",
       "999  nigeria issue warning drug touted trump overdo...  "
      ]
     },
     "execution_count": 7,
     "metadata": {},
     "output_type": "execute_result"
    }
   ],
   "source": [
    "df2 = pd.read_csv('forEvaluating_v2.csv',index_col=0)\n",
    "df2.tail()"
   ]
  },
  {
   "cell_type": "code",
   "execution_count": 8,
   "metadata": {},
   "outputs": [],
   "source": [
    "y = pd.DataFrame(df2['category'])\n",
    "X = pd.DataFrame(df2['text'])"
   ]
  },
  {
   "cell_type": "code",
   "execution_count": null,
   "metadata": {},
   "outputs": [],
   "source": []
  },
  {
   "cell_type": "code",
   "execution_count": 9,
   "metadata": {},
   "outputs": [
    {
     "data": {
      "text/plain": [
       "0.533"
      ]
     },
     "execution_count": 9,
     "metadata": {},
     "output_type": "execute_result"
    }
   ],
   "source": [
    "text_clf.fit(X_train['text'].values.astype(str), y_train['category'].values.astype(str))\n",
    "predicted = text_clf.predict((X['text'].values.astype(str)))\n",
    "np.mean(predicted == y['category'].values.astype(str))"
   ]
  },
  {
   "cell_type": "code",
   "execution_count": 10,
   "metadata": {},
   "outputs": [
    {
     "name": "stdout",
     "output_type": "stream",
     "text": [
      "              precision    recall  f1-score   support\n",
      "\n",
      "    BUSINESS       0.39      0.64      0.48        99\n",
      " ENVIRONMENT       0.28      0.74      0.40        46\n",
      "     GENERAL       0.89      0.41      0.56       574\n",
      "    POLITICS       0.39      0.86      0.53       116\n",
      "     SCIENCE       0.67      0.41      0.51        54\n",
      "        TECH       0.49      0.71      0.58       111\n",
      "\n",
      "    accuracy                           0.53      1000\n",
      "   macro avg       0.52      0.63      0.51      1000\n",
      "weighted avg       0.70      0.53      0.54      1000\n",
      "\n"
     ]
    }
   ],
   "source": [
    "from sklearn import metrics\n",
    "print(metrics.classification_report(y['category'].values.astype(str), predicted))"
   ]
  },
  {
   "cell_type": "code",
   "execution_count": 11,
   "metadata": {},
   "outputs": [
    {
     "data": {
      "text/plain": [
       "0.576"
      ]
     },
     "execution_count": 11,
     "metadata": {},
     "output_type": "execute_result"
    }
   ],
   "source": [
    "text_clf_svm.fit(X_train['text'].values.astype(str), y_train['category'].values.astype(str))\n",
    "predicted = text_clf_svm.predict((X['text'].values.astype(str)))\n",
    "np.mean(predicted == y['category'].values.astype(str))"
   ]
  },
  {
   "cell_type": "code",
   "execution_count": 12,
   "metadata": {},
   "outputs": [
    {
     "name": "stdout",
     "output_type": "stream",
     "text": [
      "              precision    recall  f1-score   support\n",
      "\n",
      "    BUSINESS       0.43      0.68      0.52        99\n",
      " ENVIRONMENT       0.42      0.78      0.55        46\n",
      "     GENERAL       0.93      0.44      0.59       574\n",
      "    POLITICS       0.39      0.93      0.55       116\n",
      "     SCIENCE       0.56      0.56      0.56        54\n",
      "        TECH       0.54      0.77      0.64       111\n",
      "\n",
      "    accuracy                           0.58      1000\n",
      "   macro avg       0.54      0.69      0.57      1000\n",
      "weighted avg       0.73      0.58      0.58      1000\n",
      "\n"
     ]
    }
   ],
   "source": [
    "from sklearn import metrics\n",
    "print(metrics.classification_report(y['category'].values.astype(str), predicted))"
   ]
  },
  {
   "cell_type": "code",
   "execution_count": 13,
   "metadata": {},
   "outputs": [
    {
     "data": {
      "text/plain": [
       "0.493"
      ]
     },
     "execution_count": 13,
     "metadata": {},
     "output_type": "execute_result"
    }
   ],
   "source": [
    "text_clf_nn.fit(X_train['text'].values.astype(str), y_train['category'].values.astype(str))\n",
    "predicted = text_clf_nn.predict((X['text'].values.astype(str)))\n",
    "np.mean(predicted == y['category'].values.astype(str))"
   ]
  },
  {
   "cell_type": "code",
   "execution_count": 14,
   "metadata": {},
   "outputs": [
    {
     "name": "stdout",
     "output_type": "stream",
     "text": [
      "              precision    recall  f1-score   support\n",
      "\n",
      "    BUSINESS       0.40      0.65      0.49        99\n",
      " ENVIRONMENT       0.36      0.65      0.46        46\n",
      "     GENERAL       0.90      0.36      0.52       574\n",
      "    POLITICS       0.31      0.88      0.45       116\n",
      "     SCIENCE       0.30      0.43      0.35        54\n",
      "        TECH       0.58      0.59      0.59       111\n",
      "\n",
      "    accuracy                           0.49      1000\n",
      "   macro avg       0.47      0.59      0.48      1000\n",
      "weighted avg       0.69      0.49      0.50      1000\n",
      "\n"
     ]
    }
   ],
   "source": [
    "from sklearn import metrics\n",
    "print(metrics.classification_report(y['category'].values.astype(str), predicted))"
   ]
  },
  {
   "cell_type": "code",
   "execution_count": null,
   "metadata": {},
   "outputs": [],
   "source": []
  },
  {
   "cell_type": "code",
   "execution_count": null,
   "metadata": {},
   "outputs": [],
   "source": [
    "df3 = pd.read_json('forPredicting.json')\n",
    "df3.tail()"
   ]
  },
  {
   "cell_type": "code",
   "execution_count": null,
   "metadata": {},
   "outputs": [],
   "source": [
    "X = pd.DataFrame(df3['text'])"
   ]
  },
  {
   "cell_type": "code",
   "execution_count": null,
   "metadata": {},
   "outputs": [],
   "source": [
    "text_clf_svm.fit(X_train['text'].values.astype(str), y_train['category'].values.astype(str))\n",
    "predicted = text_clf_svm.predict((X['text'].values.astype(str)))"
   ]
  },
  {
   "cell_type": "code",
   "execution_count": null,
   "metadata": {},
   "outputs": [],
   "source": [
    "start_time = datetime.now()\n",
    "text_clf_svm.fit(X_train['text'].values.astype(str), y_train['category'].values.astype(str))\n",
    "print('Time taken to train model: ' + str(datetime.now() - start_time) + ' seconds')"
   ]
  },
  {
   "cell_type": "code",
   "execution_count": null,
   "metadata": {},
   "outputs": [],
   "source": [
    "df4 = pd.read_json('Combined.json')\n",
    "df4['predicted_category'] = df4['source']\n",
    "df4.tail()"
   ]
  },
  {
   "cell_type": "code",
   "execution_count": null,
   "metadata": {},
   "outputs": [],
   "source": [
    "start_time = datetime.now()\n",
    "predicted = text_clf_svm.predict((X['text'].values.astype(str)))\n",
    "end_time = datetime.now()\n",
    "time_taken = end_time - start_time\n",
    "time_taken = (time_taken.microseconds/1000000)+(time_taken).seconds\n",
    "records_classified = round(1/time_taken*int(df4['predicted_category'].count()))\n",
    "print('Time taken to classify: ' + str(time_taken) + 'seconds')\n",
    "print('Records classified per second: ' + str(records_classified))"
   ]
  },
  {
   "cell_type": "code",
   "execution_count": null,
   "metadata": {},
   "outputs": [],
   "source": [
    "for i, row in df4.iterrows():\n",
    "    df4.at[i,'predicted_category'] = predicted[i]"
   ]
  },
  {
   "cell_type": "code",
   "execution_count": null,
   "metadata": {},
   "outputs": [],
   "source": []
  },
  {
   "cell_type": "code",
   "execution_count": null,
   "metadata": {
    "scrolled": true
   },
   "outputs": [],
   "source": [
    "df4.tail()"
   ]
  },
  {
   "cell_type": "code",
   "execution_count": null,
   "metadata": {},
   "outputs": [],
   "source": [
    "df4.count()"
   ]
  },
  {
   "cell_type": "code",
   "execution_count": null,
   "metadata": {},
   "outputs": [],
   "source": [
    "df4.to_json(\"Combined Predicted.json\")"
   ]
  },
  {
   "cell_type": "code",
   "execution_count": null,
   "metadata": {},
   "outputs": [],
   "source": []
  }
 ],
 "metadata": {
  "kernelspec": {
   "display_name": "Python 3",
   "language": "python",
   "name": "python3"
  },
  "language_info": {
   "codemirror_mode": {
    "name": "ipython",
    "version": 3
   },
   "file_extension": ".py",
   "mimetype": "text/x-python",
   "name": "python",
   "nbconvert_exporter": "python",
   "pygments_lexer": "ipython3",
   "version": "3.7.4"
  }
 },
 "nbformat": 4,
 "nbformat_minor": 2
}
